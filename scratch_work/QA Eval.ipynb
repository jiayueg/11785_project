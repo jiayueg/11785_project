{
 "cells": [
  {
   "cell_type": "markdown",
   "id": "85fa624c",
   "metadata": {},
   "source": [
    "# Imports"
   ]
  },
  {
   "cell_type": "code",
   "execution_count": 52,
   "id": "5421ee36",
   "metadata": {},
   "outputs": [],
   "source": [
    "import os\n",
    "import sys\n",
    "import math\n",
    "import numpy as np\n",
    "import pandas as pd\n",
    "import torch\n",
    "import torch.nn as nn\n",
    "import torch.nn.functional as F\n",
    "from torch.utils.data import Dataset, DataLoader\n",
    "import spacy\n",
    "from tqdm.notebook import tqdm\n",
    "import re\n",
    "from pprint import pprint"
   ]
  },
  {
   "cell_type": "code",
   "execution_count": 53,
   "id": "7eb4367c",
   "metadata": {},
   "outputs": [],
   "source": [
    "from transformers import T5Tokenizer, T5ForConditionalGeneration, T5Config"
   ]
  },
  {
   "cell_type": "code",
   "execution_count": 54,
   "id": "f1133101",
   "metadata": {},
   "outputs": [],
   "source": [
    "import importlib\n",
    "util = importlib.import_module(\"data.TOEFL-QA.utils\")\n",
    "TOEFL_PATH = \"./data/TOEFL-QA/data/\"\n",
    "raw = util.load_data(TOEFL_PATH)\n",
    "train_raw, dev_raw, test_raw = tuple(raw)"
   ]
  },
  {
   "cell_type": "markdown",
   "id": "211e8538",
   "metadata": {},
   "source": [
    "# Options"
   ]
  },
  {
   "cell_type": "code",
   "execution_count": 55,
   "id": "75537326",
   "metadata": {
    "scrolled": true
   },
   "outputs": [
    {
     "name": "stdout",
     "output_type": "stream",
     "text": [
      "Using device: cuda\n"
     ]
    }
   ],
   "source": [
    "# device = torch.device('cuda' if torch.cuda.is_available() else 'cpu')\n",
    "device = torch.device('cpu')\n",
    "print('Using device:', device)"
   ]
  },
  {
   "cell_type": "code",
   "execution_count": 56,
   "id": "858624b1",
   "metadata": {},
   "outputs": [],
   "source": [
    "PRETRAINED_MODEL = 't5-base'\n",
    "DIR = \"question_generator/\"\n",
    "BATCH_SIZE = 1\n",
    "SEQ_LENGTH = 512\n",
    "EPOCHS = 200\n",
    "USE_ANSWER = True"
   ]
  },
  {
   "cell_type": "markdown",
   "id": "e7c0c949",
   "metadata": {},
   "source": [
    "# Utility Functions"
   ]
  },
  {
   "cell_type": "code",
   "execution_count": 57,
   "id": "d3705201",
   "metadata": {},
   "outputs": [],
   "source": [
    "def get_sent_str(sentence_list):\n",
    "    sent = \" \".join(sentence_list)\n",
    "    sent = re.sub(r\" (?P<punc>[.?,])\", r\"\\1\", sent)\n",
    "    return sent\n",
    "\n",
    "def get_sent_list(sentences):\n",
    "    sent_list = []\n",
    "    for sent in sentences:\n",
    "        sent_list.append(get_sent_str(sent))\n",
    "    return sent_list"
   ]
  },
  {
   "cell_type": "code",
   "execution_count": 58,
   "id": "557906b1",
   "metadata": {},
   "outputs": [],
   "source": [
    "def get_contexts(sentences):\n",
    "    out = []\n",
    "    for i in range(3, len(sentences)+1):\n",
    "        out.append(\" \".join([get_sent_str(sent) for sent in sentences[i-3:i]]))\n",
    "    return out\n",
    "\n",
    "def encode_contexts(inputs, answers=None):\n",
    "    out = []\n",
    "    for i in range(len(inputs)):\n",
    "        s = \"\"\n",
    "        if USE_ANSWERS:\n",
    "            s = '<answer> ' + inputs[i] + \" <context> \" + answers[i]\n",
    "        else:\n",
    "            s = inputs[i]\n",
    "        out.append(tokenizer(\n",
    "            s, \n",
    "            pad_to_max_length=True, \n",
    "            max_length=SEQ_LENGTH,\n",
    "            truncation=True,\n",
    "            return_tensors=\"pt\"\n",
    "        ))\n",
    "    return out"
   ]
  },
  {
   "cell_type": "markdown",
   "id": "2d07966c",
   "metadata": {},
   "source": [
    "# Model Init"
   ]
  },
  {
   "cell_type": "code",
   "execution_count": 59,
   "id": "d0e25165",
   "metadata": {},
   "outputs": [],
   "source": [
    "tokenizer = T5Tokenizer.from_pretrained(PRETRAINED_MODEL)\n",
    "tokenizer.add_special_tokens(\n",
    "    {'additional_special_tokens': ['<answer>', '<context>']}\n",
    ");"
   ]
  },
  {
   "cell_type": "code",
   "execution_count": 67,
   "id": "5fd327cd",
   "metadata": {},
   "outputs": [],
   "source": [
    "from transformers import T5Tokenizer, T5ForConditionalGeneration, T5Config\n",
    "qg_model = T5ForConditionalGeneration.from_pretrained('t5-base')\n",
    "qg_model.resize_token_embeddings(len(tokenizer)) # to account for new special tokens\n",
    "trained = torch.load(DIR + \"toeflqa_finetune_epoch200.pt\")\n",
    "qg_model.load_state_dict(trained[\"model_state_dict\"])\n",
    "qg_model = qg_model.to(torch.device('cpu'))"
   ]
  },
  {
   "cell_type": "code",
   "execution_count": 68,
   "id": "838544ae",
   "metadata": {},
   "outputs": [],
   "source": [
    "from transformers import AutoModelForQuestionAnswering, AutoTokenizer, pipeline\n",
    "\n",
    "model_name = \"deepset/roberta-base-squad2\"\n",
    "\n",
    "# nlp = pipeline('question-answering', model=model_name, tokenizer=model_name)\n",
    "# QA_input = [{\n",
    "#     'question': 'what does the professor imply about the groups that are the smallest and have the least social',\n",
    "#     'context': \"well, to begin we'd better define exactly what we mean when we talk about states. the human groups that are the smallest and have the least social and political complexity, we call bands. the groups that are the largest and most socially and politically complex, we call states. so, the level of complexity here refers to the organization of people into large, diverse groups, and densely populated communities.\"\n",
    "# },{\n",
    "#     'question': 'what does the professor imply about the groups that are the smallest and have the least social',\n",
    "#     'context': \"well, to begin we'd better define exactly what we mean when we talk about states. the human groups that are the smallest and have the least social and political complexity, we call bands. the groups that are the largest and most socially and politically complex, we call states. so, the level of complexity here refers to the organization of people into large, diverse groups, and densely populated communities.\"\n",
    "# }]\n",
    "# res = nlp(QA_input)\n",
    "\n",
    "# b) Load model & tokenizer\n",
    "qa_model = AutoModelForQuestionAnswering.from_pretrained(model_name)\n",
    "qa_tokenizer = AutoTokenizer.from_pretrained(model_name)"
   ]
  },
  {
   "cell_type": "markdown",
   "id": "0764b187",
   "metadata": {},
   "source": [
    "# Recreating questions for a random lecture"
   ]
  },
  {
   "cell_type": "code",
   "execution_count": 69,
   "id": "6c616e01",
   "metadata": {},
   "outputs": [
    {
     "data": {
      "text/plain": [
       "[{'question': 'why does the professor mention upper, middle, and lower classes',\n",
       "  'answer': 'to further describe the organization of states'},\n",
       " {'question': \"what is the professor's opinion about the environmental approach\",\n",
       "  'answer': 'some evidence supports it, but other evidence contradicts it'},\n",
       " {'question': 'what does the professor mainly discuss',\n",
       "  'answer': 'common political problems of chiefdoms'},\n",
       " {'question': 'according to the professor, what are two typical characteristics of a band',\n",
       "  'answer': 'it is able to meet its own basic needs'},\n",
       " {'question': 'what does the professor say is a characteristic feature of states',\n",
       "  'answer': 'states manage food production for the entire population'},\n",
       " {'question': 'what reason for prehistoric social problems does the professor mention',\n",
       "  'answer': 'competition for resources'}]"
      ]
     },
     "execution_count": 69,
     "metadata": {},
     "output_type": "execute_result"
    }
   ],
   "source": [
    "ground_truth = [\n",
    "    {\n",
    "        \"question\": get_sent_str(test_raw[i]['question']),\n",
    "        \"answer\": get_sent_str(test_raw[i]['answer'])\n",
    "    } for i in test_raw.keys() if i.startswith(\"tpo_22-lecture_1\")\n",
    "]\n",
    "ground_truth"
   ]
  },
  {
   "cell_type": "code",
   "execution_count": 70,
   "id": "66052afd",
   "metadata": {},
   "outputs": [],
   "source": [
    "contexts = get_contexts(test_raw[\"tpo_22-lecture_1_11\"][\"sentences\"])\n",
    "encoded_contexts = encode_contexts(contexts)"
   ]
  },
  {
   "cell_type": "code",
   "execution_count": 71,
   "id": "3db9640f",
   "metadata": {},
   "outputs": [],
   "source": [
    "questions = []\n",
    "for i in encoded_contexts:\n",
    "    question = qg_model.generate(input_ids=i[\"input_ids\"])\n",
    "    questions.append(tokenizer.decode(question[0], skip_special_tokens=True))"
   ]
  },
  {
   "cell_type": "code",
   "execution_count": 72,
   "id": "9c0b49e6",
   "metadata": {},
   "outputs": [],
   "source": [
    "QA_input = [{\n",
    "    'question': question,\n",
    "    'context': context} for context, question in zip(contexts,questions)]\n",
    "answers = nlp(QA_input)"
   ]
  },
  {
   "cell_type": "code",
   "execution_count": 73,
   "id": "8526678b",
   "metadata": {
    "scrolled": false
   },
   "outputs": [
    {
     "data": {
      "text/plain": [
       "[{'question': 'what is the lecture mainly about',\n",
       "  'context': \"one of the big questions when we look at prehistory is why did the earliest states form? well, to begin we'd better define exactly what we mean when we talk about states. the human groups that are the smallest and have the least social and political complexity, we call bands.\",\n",
       "  'answer': 'states'},\n",
       " {'question': 'what does the professor imply about states',\n",
       "  'context': \"well, to begin we'd better define exactly what we mean when we talk about states. the human groups that are the smallest and have the least social and political complexity, we call bands. the groups that are the largest and most socially and politically complex, we call states.\",\n",
       "  'answer': 'the groups that are the largest and most socially and politically complex'},\n",
       " {'question': 'what is the lecture mainly about',\n",
       "  'context': 'the human groups that are the smallest and have the least social and political complexity, we call bands. the groups that are the largest and most socially and politically complex, we call states. so, the level of complexity here refers to the organization of people into large, diverse groups, and densely populated communities.',\n",
       "  'answer': 'the human groups that are the smallest and have the least social and political complexity'},\n",
       " {'question': 'what is the lecture mainly about',\n",
       "  'context': 'the groups that are the largest and most socially and politically complex, we call states. so, the level of complexity here refers to the organization of people into large, diverse groups, and densely populated communities. and there are four levels in total bands, tribes, chiefdoms and states.',\n",
       "  'answer': 'states'},\n",
       " {'question': 'what is the lecture mainly about',\n",
       "  'context': 'so, the level of complexity here refers to the organization of people into large, diverse groups, and densely populated communities. and there are four levels in total bands, tribes, chiefdoms and states. but, but back to my original question.',\n",
       "  'answer': 'organization of people into large, diverse groups, and densely populated communities'},\n",
       " {'question': 'what is the lecture mainly about',\n",
       "  'context': 'and there are four levels in total bands, tribes, chiefdoms and states. but, but back to my original question. why did early states form?',\n",
       "  'answer': 'states'},\n",
       " {'question': 'why does the professor mention the early states',\n",
       "  'context': 'but, but back to my original question. why did early states form? why not just continue to live in small groups?',\n",
       "  'answer': 'continue to live in small groups'},\n",
       " {'question': 'why does the professor mention the fact that the state was formed in the early days',\n",
       "  'context': 'why did early states form? why not just continue to live in small groups? why become more complex?',\n",
       "  'answer': 'why not just continue to live in small groups'},\n",
       " {'question': 'what is the lecture mainly about',\n",
       "  'context': 'why not just continue to live in small groups? why become more complex? one theory called the environmental approach hypothesizes that the main force behind state formation was population growth.',\n",
       "  'answer': 'population growth'},\n",
       " {'question': \"what is the professor's thesis\",\n",
       "  'context': 'why become more complex? one theory called the environmental approach hypothesizes that the main force behind state formation was population growth. it assumes that centralized management was critical to dealing with issues caused by sudden population surges, like a strain on limited food supplies.',\n",
       "  'answer': 'population growth'},\n",
       " {'question': \"what is the professor's view of population growth\",\n",
       "  'context': 'one theory called the environmental approach hypothesizes that the main force behind state formation was population growth. it assumes that centralized management was critical to dealing with issues caused by sudden population surges, like a strain on limited food supplies. at the least complex end of the spectrum, the few families living in bands are able to meet their own basic needs.',\n",
       "  'answer': 'centralized management was critical to dealing with issues caused by sudden population surges'},\n",
       " {'question': 'what does the professor imply about the lack of centralized management',\n",
       "  'context': 'it assumes that centralized management was critical to dealing with issues caused by sudden population surges, like a strain on limited food supplies. at the least complex end of the spectrum, the few families living in bands are able to meet their own basic needs. they usually hunt together and forage whatever foods are available to them, instead of domesticating animals and planting crops.',\n",
       "  'answer': 'centralized management was critical to dealing with issues caused by sudden population surges'},\n",
       " {'question': 'according to the professor, what does the band do',\n",
       "  'context': 'at the least complex end of the spectrum, the few families living in bands are able to meet their own basic needs. they usually hunt together and forage whatever foods are available to them, instead of domesticating animals and planting crops. in order to efficiently take advantage of the wild foods available, bands are often nomadic and move around following herds of animals.',\n",
       "  'answer': 'move around following herds of animals'},\n",
       " {'question': 'what is the lecture mainly about',\n",
       "  'context': 'they usually hunt together and forage whatever foods are available to them, instead of domesticating animals and planting crops. in order to efficiently take advantage of the wild foods available, bands are often nomadic and move around following herds of animals. this strategy is feasible when you have a small population.',\n",
       "  'answer': 'domesticating animals and planting crops'},\n",
       " {'question': 'what is the lecture mainly about',\n",
       "  'context': \"in order to efficiently take advantage of the wild foods available, bands are often nomadic and move around following herds of animals. this strategy is feasible when you have a small population. but when you have a large population, well, the whole population can't just get up and move to follow a wild herd of animals.\",\n",
       "  'answer': 'in order to efficiently take advantage of the wild foods available'},\n",
       " {'question': 'what is the lecture mainly about',\n",
       "  'context': \"this strategy is feasible when you have a small population. but when you have a large population, well, the whole population can't just get up and move to follow a wild herd of animals. so you need sophisticated technologies to produce enough food for everyone.\",\n",
       "  'answer': 'sophisticated technologies to produce enough food for everyone'},\n",
       " {'question': 'what does the professor imply about the need to produce enough food for everyone',\n",
       "  'context': \"but when you have a large population, well, the whole population can't just get up and move to follow a wild herd of animals. so you need sophisticated technologies to produce enough food for everyone. and there is an increase need to resolve social problems that arise as people begin to compete for resources.\",\n",
       "  'answer': 'sophisticated technologies'},\n",
       " {'question': 'what does the professor imply about the need for centralized decision making',\n",
       "  'context': 'so you need sophisticated technologies to produce enough food for everyone. and there is an increase need to resolve social problems that arise as people begin to compete for resources. to manage intensified food production, to collect, store and distribute food, you need centralized decision making, centralized decision makers.',\n",
       "  'answer': 'centralized decision makers'},\n",
       " {'question': 'what does the professor imply about centralized decision making',\n",
       "  'context': \"and there is an increase need to resolve social problems that arise as people begin to compete for resources. to manage intensified food production, to collect, store and distribute food, you need centralized decision making, centralized decision makers. it's the same thing when it comes to maintaining social order.\",\n",
       "  'answer': \"it's the same thing when it comes to maintaining social order\"},\n",
       " {'question': 'what does the professor imply about the need for a formal legal code',\n",
       "  'context': \"to manage intensified food production, to collect, store and distribute food, you need centralized decision making, centralized decision makers. it's the same thing when it comes to maintaining social order. you need to create and efficiently enforce a formal legal code.\",\n",
       "  'answer': 'you need to create and efficiently enforce'},\n",
       " {'question': 'what does the professor imply about the need for a formal legal code',\n",
       "  'context': \"it's the same thing when it comes to maintaining social order. you need to create and efficiently enforce a formal legal code. it makes sense to have a centralized authority in charge of that, right?\",\n",
       "  'answer': 'it makes sense to have a centralized authority in charge of that'},\n",
       " {'question': 'what does the professor imply about the centralized authority',\n",
       "  'context': 'you need to create and efficiently enforce a formal legal code. it makes sense to have a centralized authority in charge of that, right? so a hierarchy forms.',\n",
       "  'answer': 'it makes sense'},\n",
       " {'question': 'what does the professor imply about the hierarchy',\n",
       "  'context': 'it makes sense to have a centralized authority in charge of that, right? so a hierarchy forms. by definition, states had at least three social levels.',\n",
       "  'answer': 'a hierarchy forms. by definition, states had at least three social levels'},\n",
       " {'question': 'what does the professor imply about the three social levels',\n",
       "  'context': 'so a hierarchy forms. by definition, states had at least three social levels. usually, an upper class of rulers, a middleclass comprised of managers and merchants, and a lower class of crop producers and agricultural laborers.',\n",
       "  'answer': 'states had at least three social levels'},\n",
       " {'question': 'what does the professor imply about the state',\n",
       "  'context': 'by definition, states had at least three social levels. usually, an upper class of rulers, a middleclass comprised of managers and merchants, and a lower class of crop producers and agricultural laborers. the environmental approach hypothesizes that states appear in certain environmental settings, settings which have a severe population problem or a shortage of agricultural land.',\n",
       "  'answer': 'states had at least three social levels'},\n",
       " {'question': 'what does the professor imply about the state of the crop',\n",
       "  'context': 'usually, an upper class of rulers, a middleclass comprised of managers and merchants, and a lower class of crop producers and agricultural laborers. the environmental approach hypothesizes that states appear in certain environmental settings, settings which have a severe population problem or a shortage of agricultural land. but not everyone agrees with the theory.',\n",
       "  'answer': 'lower class of crop producers and agricultural laborers'},\n",
       " {'question': 'what does the professor imply about the state in environmental settings',\n",
       "  'context': 'the environmental approach hypothesizes that states appear in certain environmental settings, settings which have a severe population problem or a shortage of agricultural land. but not everyone agrees with the theory. it definitely has some weaknesses.',\n",
       "  'answer': 'settings which have a severe population problem or a shortage of agricultural land'},\n",
       " {'question': 'what does the professor imply about the state of the mesoamerican nile',\n",
       "  'context': \"but not everyone agrees with the theory. it definitely has some weaknesses. for example, states have developed in places like the mild lowlands of mesoamerica and in egypt's nile river valley.\",\n",
       "  'answer': 'weaknesses'},\n",
       " {'question': 'what does the professor imply about the lack of agricultural land in mesoamerica',\n",
       "  'context': \"it definitely has some weaknesses. for example, states have developed in places like the mild lowlands of mesoamerica and in egypt's nile river valley. both places had vast areas of fertile farmland, no shortage of agricultural land.\",\n",
       "  'answer': 'no shortage of agricultural land'},\n",
       " {'question': 'what is the lecture mainly about',\n",
       "  'context': \"for example, states have developed in places like the mild lowlands of mesoamerica and in egypt's nile river valley. both places had vast areas of fertile farmland, no shortage of agricultural land. and what about population increase?\",\n",
       "  'answer': 'population increase'},\n",
       " {'question': 'what is the lecture mainly about',\n",
       "  'context': \"both places had vast areas of fertile farmland, no shortage of agricultural land. and what about population increase? well, there were some early states that formed where there wasn't any sudden population increase.\",\n",
       "  'answer': 'population increase'},\n",
       " {'question': 'what is the lecture mainly about',\n",
       "  'context': \"and what about population increase? well, there were some early states that formed where there wasn't any sudden population increase. so it seems that these are valid criticisms of the environmental approach.\",\n",
       "  'answer': 'environmental approach'}]"
      ]
     },
     "execution_count": 73,
     "metadata": {},
     "output_type": "execute_result"
    }
   ],
   "source": [
    "generated = [\n",
    "    {\n",
    "        \"question\": question,\n",
    "        \"context\": context,\n",
    "        \"answer\": answer['answer']\n",
    "    } for question, context, answer in zip(questions, contexts, answers)\n",
    "]\n",
    "generated"
   ]
  },
  {
   "cell_type": "code",
   "execution_count": null,
   "id": "51e4a7f2",
   "metadata": {},
   "outputs": [],
   "source": []
  },
  {
   "cell_type": "code",
   "execution_count": null,
   "id": "8a8448c7",
   "metadata": {},
   "outputs": [],
   "source": []
  }
 ],
 "metadata": {
  "kernelspec": {
   "display_name": "Python [conda env:idl_p]",
   "language": "python",
   "name": "conda-env-idl_p-py"
  },
  "language_info": {
   "codemirror_mode": {
    "name": "ipython",
    "version": 3
   },
   "file_extension": ".py",
   "mimetype": "text/x-python",
   "name": "python",
   "nbconvert_exporter": "python",
   "pygments_lexer": "ipython3",
   "version": "3.9.7"
  }
 },
 "nbformat": 4,
 "nbformat_minor": 5
}
