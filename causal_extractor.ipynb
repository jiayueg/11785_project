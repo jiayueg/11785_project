{
 "cells": [
  {
   "cell_type": "code",
   "execution_count": 2,
   "id": "1051a69e",
   "metadata": {},
   "outputs": [],
   "source": [
    "import torch, datasets\n",
    "import sys\n",
    "import importlib  \n",
    "from external.questiongenerator import *\n",
    "import re\n",
    "util = importlib.import_module(\"data.TOEFL-QA.utils\")"
   ]
  },
  {
   "cell_type": "code",
   "execution_count": 3,
   "id": "5266a8fd",
   "metadata": {},
   "outputs": [],
   "source": [
    "TOEFL_DATA = \"./data/TOEFL-QA/data\""
   ]
  },
  {
   "cell_type": "code",
   "execution_count": 4,
   "id": "6f0c073b",
   "metadata": {},
   "outputs": [],
   "source": [
    "train_data, validation_data, test_data = tuple(util.load_data(TOEFL_DATA))"
   ]
  },
  {
   "cell_type": "code",
   "execution_count": 5,
   "id": "292af3bc",
   "metadata": {},
   "outputs": [
    {
     "name": "stdout",
     "output_type": "stream",
     "text": [
      "dict_keys(['tpo_1-conversation_1_1', 'tpo_1-conversation_1_2', 'tpo_1-conversation_1_3', 'tpo_1-conversation_1_4', 'tpo_1-conversation_2_1', 'tpo_1-conversation_2_2', 'tpo_1-conversation_2_3', 'tpo_1-conversation_2_4', 'tpo_1-conversation_2_5', 'tpo_1-lecture_1_10', 'tpo_1-lecture_1_6', 'tpo_1-lecture_1_7', 'tpo_1-lecture_1_8', 'tpo_1-lecture_1_9', 'tpo_1-lecture_2_12', 'tpo_1-lecture_2_13', 'tpo_1-lecture_2_15', 'tpo_1-lecture_2_16', 'tpo_1-lecture_3_10', 'tpo_1-lecture_3_11', 'tpo_1-lecture_3_6', 'tpo_1-lecture_3_7', 'tpo_1-lecture_3_8', 'tpo_1-lecture_3_9', 'tpo_1-lecture_4_12', 'tpo_1-lecture_4_13', 'tpo_1-lecture_4_15', 'tpo_10-conversation_1_1', 'tpo_10-conversation_1_2', 'tpo_10-conversation_1_3', 'tpo_10-conversation_1_4', 'tpo_10-conversation_2_1', 'tpo_10-conversation_2_2', 'tpo_10-conversation_2_3', 'tpo_10-conversation_2_4', 'tpo_10-lecture_1_10', 'tpo_10-lecture_1_11', 'tpo_10-lecture_1_6', 'tpo_10-lecture_1_7', 'tpo_10-lecture_1_8', 'tpo_10-lecture_1_9', 'tpo_10-lecture_2_12', 'tpo_10-lecture_2_13', 'tpo_10-lecture_2_14', 'tpo_10-lecture_2_15', 'tpo_10-lecture_2_16', 'tpo_10-lecture_3_10', 'tpo_10-lecture_3_6', 'tpo_10-lecture_3_7', 'tpo_10-lecture_3_8', 'tpo_10-lecture_3_9', 'tpo_10-lecture_4_12', 'tpo_10-lecture_4_13', 'tpo_10-lecture_4_14', 'tpo_10-lecture_4_16', 'tpo_10-lecture_4_17', 'tpo_11-conversation_1_1', 'tpo_11-conversation_1_2', 'tpo_11-conversation_1_3', 'tpo_11-conversation_1_4', 'tpo_11-conversation_2_1', 'tpo_11-conversation_2_2', 'tpo_11-conversation_2_3', 'tpo_11-conversation_2_4', 'tpo_11-lecture_1_6', 'tpo_11-lecture_1_7', 'tpo_11-lecture_1_8', 'tpo_11-lecture_2_12', 'tpo_11-lecture_2_13', 'tpo_11-lecture_2_14', 'tpo_11-lecture_2_15', 'tpo_11-lecture_2_16', 'tpo_11-lecture_3_10', 'tpo_11-lecture_3_6', 'tpo_11-lecture_3_7', 'tpo_11-lecture_3_8', 'tpo_11-lecture_3_9', 'tpo_11-lecture_4_12', 'tpo_11-lecture_4_13', 'tpo_11-lecture_4_14', 'tpo_11-lecture_4_15', 'tpo_11-lecture_4_16', 'tpo_12-conversation_1_1', 'tpo_12-conversation_1_2', 'tpo_12-conversation_1_3', 'tpo_12-conversation_1_4', 'tpo_12-conversation_2_1', 'tpo_12-conversation_2_2', 'tpo_12-conversation_2_3', 'tpo_12-conversation_2_4', 'tpo_12-conversation_2_5', 'tpo_12-lecture_1_10', 'tpo_12-lecture_1_11', 'tpo_12-lecture_1_6', 'tpo_12-lecture_1_7', 'tpo_12-lecture_1_8', 'tpo_12-lecture_1_9', 'tpo_12-lecture_2_12', 'tpo_12-lecture_2_13', 'tpo_12-lecture_2_14', 'tpo_12-lecture_2_15', 'tpo_12-lecture_2_16', 'tpo_12-lecture_3_6', 'tpo_12-lecture_3_7', 'tpo_12-lecture_3_8', 'tpo_12-lecture_3_9', 'tpo_12-lecture_4_12', 'tpo_12-lecture_4_13', 'tpo_12-lecture_4_14', 'tpo_12-lecture_4_15', 'tpo_12-lecture_4_16', 'tpo_13-conversation_1_1', 'tpo_13-conversation_1_2', 'tpo_13-conversation_1_3', 'tpo_13-conversation_1_4', 'tpo_13-conversation_2_1', 'tpo_13-conversation_2_2', 'tpo_13-conversation_2_3', 'tpo_13-conversation_2_4', 'tpo_13-lecture_1_10', 'tpo_13-lecture_1_6', 'tpo_13-lecture_1_7', 'tpo_13-lecture_1_8', 'tpo_13-lecture_1_9', 'tpo_13-lecture_2_12', 'tpo_13-lecture_2_13', 'tpo_13-lecture_2_14', 'tpo_13-lecture_2_15', 'tpo_13-lecture_3_10', 'tpo_13-lecture_3_6', 'tpo_13-lecture_3_7', 'tpo_13-lecture_3_9', 'tpo_13-lecture_4_12', 'tpo_13-lecture_4_13', 'tpo_13-lecture_4_14', 'tpo_13-lecture_4_15', 'tpo_13-lecture_4_16', 'tpo_14-conversation_1_1', 'tpo_14-conversation_1_2', 'tpo_14-conversation_1_3', 'tpo_14-conversation_1_4', 'tpo_14-conversation_2_1', 'tpo_14-conversation_2_2', 'tpo_14-conversation_2_3', 'tpo_14-conversation_2_4', 'tpo_14-lecture_1_10', 'tpo_14-lecture_1_6', 'tpo_14-lecture_1_7', 'tpo_14-lecture_1_8', 'tpo_14-lecture_1_9', 'tpo_14-lecture_2_12', 'tpo_14-lecture_2_13', 'tpo_14-lecture_2_14', 'tpo_14-lecture_2_15', 'tpo_14-lecture_2_16', 'tpo_14-lecture_3_10', 'tpo_14-lecture_3_6', 'tpo_14-lecture_3_7', 'tpo_14-lecture_3_8', 'tpo_14-lecture_3_9', 'tpo_14-lecture_4_12', 'tpo_14-lecture_4_13', 'tpo_14-lecture_4_14', 'tpo_14-lecture_4_15', 'tpo_14-lecture_4_16', 'tpo_15-conversation_1_1', 'tpo_15-conversation_1_2', 'tpo_15-conversation_1_3', 'tpo_15-conversation_1_4', 'tpo_15-conversation_2_18', 'tpo_15-conversation_2_19', 'tpo_15-conversation_2_20', 'tpo_15-conversation_2_21', 'tpo_15-conversation_2_22', 'tpo_15-lecture_1_10', 'tpo_15-lecture_1_11', 'tpo_15-lecture_1_6', 'tpo_15-lecture_1_7', 'tpo_15-lecture_1_8', 'tpo_15-lecture_1_9', 'tpo_15-lecture_2_12', 'tpo_15-lecture_2_13', 'tpo_15-lecture_2_14', 'tpo_15-lecture_2_15', 'tpo_15-lecture_2_16', 'tpo_15-lecture_2_17', 'tpo_15-lecture_3_23', 'tpo_15-lecture_3_24', 'tpo_15-lecture_3_25', 'tpo_15-lecture_3_26', 'tpo_15-lecture_3_27', 'tpo_15-lecture_3_28', 'tpo_15-lecture_4_29', 'tpo_15-lecture_4_30', 'tpo_15-lecture_4_31', 'tpo_15-lecture_4_32', 'tpo_15-lecture_4_33', 'tpo_16-conversation_1_1', 'tpo_16-conversation_1_2', 'tpo_16-conversation_1_3', 'tpo_16-conversation_1_4', 'tpo_16-conversation_2_1', 'tpo_16-conversation_2_2', 'tpo_16-conversation_2_3', 'tpo_16-conversation_2_4', 'tpo_16-lecture_1_10', 'tpo_16-lecture_1_6', 'tpo_16-lecture_1_8', 'tpo_16-lecture_1_9', 'tpo_16-lecture_2_12', 'tpo_16-lecture_2_13', 'tpo_16-lecture_2_14', 'tpo_16-lecture_2_15', 'tpo_16-lecture_2_16', 'tpo_16-lecture_3_10', 'tpo_16-lecture_3_6', 'tpo_16-lecture_3_7', 'tpo_16-lecture_3_8', 'tpo_16-lecture_3_9', 'tpo_16-lecture_4_12', 'tpo_16-lecture_4_13', 'tpo_16-lecture_4_14', 'tpo_16-lecture_4_15', 'tpo_16-lecture_4_16', 'tpo_17-conversation_1_1', 'tpo_17-conversation_1_2', 'tpo_17-conversation_1_3', 'tpo_17-conversation_1_4', 'tpo_17-conversation_2_1', 'tpo_17-conversation_2_2', 'tpo_17-conversation_2_3', 'tpo_17-conversation_2_4', 'tpo_17-lecture_1_10', 'tpo_17-lecture_1_6', 'tpo_17-lecture_1_7', 'tpo_17-lecture_1_8', 'tpo_17-lecture_1_9', 'tpo_17-lecture_2_12', 'tpo_17-lecture_2_13', 'tpo_17-lecture_2_14', 'tpo_17-lecture_2_15', 'tpo_17-lecture_2_16', 'tpo_17-lecture_3_10', 'tpo_17-lecture_3_6', 'tpo_17-lecture_3_7', 'tpo_17-lecture_3_8', 'tpo_17-lecture_3_9', 'tpo_17-lecture_4_4', 'tpo_17-lecture_4_5', 'tpo_17-lecture_4_6', 'tpo_17-lecture_4_7', 'tpo_17-lecture_4_8', 'tpo_18-conversation_1_1', 'tpo_18-conversation_1_2', 'tpo_18-conversation_1_3', 'tpo_18-conversation_1_4', 'tpo_18-conversation_2_18', 'tpo_18-conversation_2_19', 'tpo_18-conversation_2_20', 'tpo_18-conversation_2_21', 'tpo_18-lecture_1_10', 'tpo_18-lecture_1_11', 'tpo_18-lecture_1_6', 'tpo_18-lecture_1_7', 'tpo_18-lecture_1_8', 'tpo_18-lecture_1_9', 'tpo_18-lecture_2_12', 'tpo_18-lecture_2_13', 'tpo_18-lecture_2_14', 'tpo_18-lecture_2_15', 'tpo_18-lecture_2_16', 'tpo_18-lecture_3_23', 'tpo_18-lecture_3_25', 'tpo_18-lecture_3_26', 'tpo_18-lecture_3_27', 'tpo_18-lecture_4_29', 'tpo_18-lecture_4_30', 'tpo_18-lecture_4_31', 'tpo_18-lecture_4_32', 'tpo_18-lecture_4_33', 'tpo_19-conversation_1_1', 'tpo_19-conversation_1_2', 'tpo_19-conversation_1_3', 'tpo_19-conversation_1_4', 'tpo_19-conversation_1_5', 'tpo_19-conversation_2_18', 'tpo_19-conversation_2_19', 'tpo_19-conversation_2_20', 'tpo_19-conversation_2_21', 'tpo_19-lecture_1_10', 'tpo_19-lecture_1_6', 'tpo_19-lecture_1_7', 'tpo_19-lecture_1_8', 'tpo_19-lecture_1_9', 'tpo_19-lecture_2_12', 'tpo_19-lecture_2_13', 'tpo_19-lecture_2_14', 'tpo_19-lecture_2_15', 'tpo_19-lecture_2_16', 'tpo_19-lecture_3_23', 'tpo_19-lecture_3_24', 'tpo_19-lecture_3_25', 'tpo_19-lecture_3_26', 'tpo_19-lecture_3_27', 'tpo_19-lecture_4_29', 'tpo_19-lecture_4_30', 'tpo_19-lecture_4_31', 'tpo_19-lecture_4_32', 'tpo_19-lecture_4_33', 'tpo_19-lecture_4_34', 'tpo_2-conversation_1_1', 'tpo_2-conversation_1_3', 'tpo_2-conversation_1_4', 'tpo_2-conversation_2_1', 'tpo_2-conversation_2_2', 'tpo_2-conversation_2_3', 'tpo_2-conversation_2_4', 'tpo_2-conversation_2_5', 'tpo_2-lecture_1_10', 'tpo_2-lecture_1_11', 'tpo_2-lecture_1_6', 'tpo_2-lecture_1_8', 'tpo_2-lecture_1_9', 'tpo_2-lecture_2_12', 'tpo_2-lecture_2_13', 'tpo_2-lecture_2_14', 'tpo_2-lecture_2_15', 'tpo_2-lecture_2_16', 'tpo_2-lecture_2_17', 'tpo_2-lecture_3_6', 'tpo_2-lecture_3_8', 'tpo_2-lecture_3_9', 'tpo_2-lecture_4_11', 'tpo_2-lecture_4_12', 'tpo_2-lecture_4_13', 'tpo_2-lecture_4_14', 'tpo_2-lecture_4_15', 'tpo_20-conversation_1_1', 'tpo_20-conversation_1_2', 'tpo_20-conversation_1_3', 'tpo_20-conversation_1_4', 'tpo_20-conversation_2_1', 'tpo_20-conversation_2_2', 'tpo_20-conversation_2_3', 'tpo_20-conversation_2_4', 'tpo_20-lecture_1_10', 'tpo_20-lecture_1_11', 'tpo_20-lecture_1_6', 'tpo_20-lecture_1_7', 'tpo_20-lecture_1_9', 'tpo_20-lecture_2_12', 'tpo_20-lecture_2_13', 'tpo_20-lecture_2_14', 'tpo_20-lecture_2_15', 'tpo_20-lecture_2_16', 'tpo_20-lecture_3_10', 'tpo_20-lecture_3_11', 'tpo_20-lecture_3_6', 'tpo_20-lecture_3_7', 'tpo_20-lecture_3_8', 'tpo_20-lecture_3_9', 'tpo_20-lecture_4_12', 'tpo_20-lecture_4_13', 'tpo_20-lecture_4_14', 'tpo_20-lecture_4_15', 'tpo_20-lecture_4_16', 'tpo_21-conversation_1_1', 'tpo_21-conversation_1_2', 'tpo_21-conversation_1_3', 'tpo_21-conversation_1_4', 'tpo_21-conversation_1_5', 'tpo_21-conversation_2_1', 'tpo_21-conversation_2_2', 'tpo_21-conversation_2_3', 'tpo_21-conversation_2_4', 'tpo_21-lecture_1_10', 'tpo_21-lecture_1_11', 'tpo_21-lecture_1_6', 'tpo_21-lecture_1_7', 'tpo_21-lecture_1_8', 'tpo_21-lecture_1_9', 'tpo_21-lecture_2_12', 'tpo_21-lecture_2_13', 'tpo_21-lecture_2_14', 'tpo_21-lecture_2_15', 'tpo_21-lecture_2_16', 'tpo_21-lecture_3_10', 'tpo_21-lecture_3_11', 'tpo_21-lecture_3_6', 'tpo_21-lecture_3_7', 'tpo_21-lecture_3_8', 'tpo_21-lecture_3_9', 'tpo_21-lecture_4_12', 'tpo_21-lecture_4_13', 'tpo_21-lecture_4_14', 'tpo_21-lecture_4_15', 'tpo_21-lecture_4_16', 'tpo_3-conversation_1_1', 'tpo_3-conversation_1_2', 'tpo_3-conversation_1_3', 'tpo_3-conversation_1_4', 'tpo_3-conversation_2_1', 'tpo_3-conversation_2_2', 'tpo_3-conversation_2_3', 'tpo_3-conversation_2_4', 'tpo_3-conversation_2_5', 'tpo_3-lecture_1_10', 'tpo_3-lecture_1_6', 'tpo_3-lecture_1_7', 'tpo_3-lecture_1_8', 'tpo_3-lecture_1_9', 'tpo_3-lecture_2_12', 'tpo_3-lecture_2_13', 'tpo_3-lecture_2_14', 'tpo_3-lecture_2_15', 'tpo_3-lecture_2_16', 'tpo_3-lecture_3_10', 'tpo_3-lecture_3_11', 'tpo_3-lecture_3_6', 'tpo_3-lecture_3_7', 'tpo_3-lecture_3_8', 'tpo_3-lecture_3_9', 'tpo_3-lecture_4_12', 'tpo_3-lecture_4_13', 'tpo_3-lecture_4_14', 'tpo_3-lecture_4_15', 'tpo_30-conversation_1_1', 'tpo_30-conversation_1_2', 'tpo_30-conversation_1_3', 'tpo_30-conversation_1_4', 'tpo_30-conversation_1_5', 'tpo_30-conversation_2_18', 'tpo_30-conversation_2_19', 'tpo_30-conversation_2_20', 'tpo_30-conversation_2_21', 'tpo_30-conversation_2_22', 'tpo_30-lecture_1_10', 'tpo_30-lecture_1_6', 'tpo_30-lecture_1_7', 'tpo_30-lecture_1_8', 'tpo_30-lecture_1_9', 'tpo_30-lecture_2_12', 'tpo_30-lecture_2_13', 'tpo_30-lecture_2_14', 'tpo_30-lecture_2_15', 'tpo_30-lecture_2_16', 'tpo_30-lecture_2_17', 'tpo_30-lecture_3_23', 'tpo_30-lecture_3_24', 'tpo_30-lecture_3_25', 'tpo_30-lecture_3_26', 'tpo_30-lecture_3_27', 'tpo_30-lecture_3_28', 'tpo_30-lecture_4_29', 'tpo_30-lecture_4_30', 'tpo_30-lecture_4_31', 'tpo_30-lecture_4_32', 'tpo_30-lecture_4_33', 'tpo_30-lecture_4_34', 'tpo_31-conversation_1_1', 'tpo_31-conversation_1_2', 'tpo_31-conversation_1_3', 'tpo_31-conversation_1_4', 'tpo_31-conversation_1_5', 'tpo_31-conversation_2_1', 'tpo_31-conversation_2_2', 'tpo_31-conversation_2_3', 'tpo_31-conversation_2_4', 'tpo_31-lecture_1_10', 'tpo_31-lecture_1_6', 'tpo_31-lecture_1_7', 'tpo_31-lecture_1_8', 'tpo_31-lecture_1_9', 'tpo_31-lecture_2_12', 'tpo_31-lecture_2_14', 'tpo_31-lecture_2_15', 'tpo_31-lecture_2_16', 'tpo_31-lecture_2_17', 'tpo_31-lecture_3_10', 'tpo_31-lecture_3_11', 'tpo_31-lecture_3_6', 'tpo_31-lecture_3_7', 'tpo_31-lecture_3_8', 'tpo_31-lecture_3_9', 'tpo_31-lecture_4_12', 'tpo_31-lecture_4_13', 'tpo_31-lecture_4_14', 'tpo_31-lecture_4_15', 'tpo_31-lecture_4_16', 'tpo_32-conversation_1_1', 'tpo_32-conversation_1_2', 'tpo_32-conversation_1_3', 'tpo_32-conversation_1_4', 'tpo_32-conversation_2_1', 'tpo_32-conversation_2_2', 'tpo_32-conversation_2_3', 'tpo_32-conversation_2_4', 'tpo_32-lecture_1_10', 'tpo_32-lecture_1_6', 'tpo_32-lecture_1_7', 'tpo_32-lecture_1_8', 'tpo_32-lecture_1_9', 'tpo_32-lecture_2_12', 'tpo_32-lecture_2_13', 'tpo_32-lecture_2_14', 'tpo_32-lecture_2_15', 'tpo_32-lecture_2_16', 'tpo_32-lecture_3_10', 'tpo_32-lecture_3_11', 'tpo_32-lecture_3_6', 'tpo_32-lecture_3_7', 'tpo_32-lecture_3_8', 'tpo_32-lecture_3_9', 'tpo_32-lecture_4_12', 'tpo_32-lecture_4_13', 'tpo_32-lecture_4_14', 'tpo_32-lecture_4_15', 'tpo_32-lecture_4_16', 'tpo_32-lecture_4_17', 'tpo_33-conversation_1_1', 'tpo_33-conversation_1_2', 'tpo_33-conversation_1_3', 'tpo_33-conversation_1_4', 'tpo_33-conversation_1_5', 'tpo_33-conversation_2_1', 'tpo_33-conversation_2_2', 'tpo_33-conversation_2_3', 'tpo_33-conversation_2_4', 'tpo_33-lecture_1_11', 'tpo_33-lecture_1_6', 'tpo_33-lecture_1_7', 'tpo_33-lecture_1_8', 'tpo_33-lecture_1_9', 'tpo_33-lecture_2_12', 'tpo_33-lecture_2_13', 'tpo_33-lecture_2_14', 'tpo_33-lecture_2_15', 'tpo_33-lecture_2_16', 'tpo_33-lecture_2_17', 'tpo_33-lecture_3_10', 'tpo_33-lecture_3_11', 'tpo_33-lecture_3_6', 'tpo_33-lecture_3_7', 'tpo_33-lecture_3_8', 'tpo_33-lecture_3_9', 'tpo_33-lecture_4_12', 'tpo_33-lecture_4_13', 'tpo_33-lecture_4_14', 'tpo_33-lecture_4_15', 'tpo_33-lecture_4_16', 'tpo_4-conversation_1_1', 'tpo_4-conversation_1_2', 'tpo_4-conversation_1_3', 'tpo_4-conversation_1_4', 'tpo_4-conversation_2_1', 'tpo_4-conversation_2_2', 'tpo_4-conversation_2_3', 'tpo_4-conversation_2_4', 'tpo_4-conversation_2_5', 'tpo_4-lecture_1_10', 'tpo_4-lecture_1_6', 'tpo_4-lecture_1_8', 'tpo_4-lecture_1_9', 'tpo_4-lecture_2_12', 'tpo_4-lecture_2_13', 'tpo_4-lecture_2_14', 'tpo_4-lecture_2_15', 'tpo_4-lecture_2_16', 'tpo_4-lecture_3_10', 'tpo_4-lecture_3_6', 'tpo_4-lecture_3_7', 'tpo_4-lecture_3_8', 'tpo_4-lecture_3_9', 'tpo_4-lecture_4_12', 'tpo_4-lecture_4_13', 'tpo_4-lecture_4_15', 'tpo_4-lecture_4_16', 'tpo_5-conversation_1_1', 'tpo_5-conversation_1_2', 'tpo_5-conversation_1_3', 'tpo_5-conversation_1_4', 'tpo_5-conversation_1_5', 'tpo_5-conversation_2_1', 'tpo_5-conversation_2_2', 'tpo_5-conversation_2_3', 'tpo_5-conversation_2_4', 'tpo_5-conversation_2_5', 'tpo_5-lecture_1_10', 'tpo_5-lecture_1_6', 'tpo_5-lecture_1_7', 'tpo_5-lecture_1_8', 'tpo_5-lecture_1_9', 'tpo_5-lecture_2_12', 'tpo_5-lecture_2_13', 'tpo_5-lecture_2_14', 'tpo_5-lecture_2_15', 'tpo_5-lecture_2_16', 'tpo_5-lecture_3_10', 'tpo_5-lecture_3_6', 'tpo_5-lecture_3_7', 'tpo_5-lecture_3_8', 'tpo_5-lecture_3_9', 'tpo_5-lecture_4_12', 'tpo_5-lecture_4_13', 'tpo_5-lecture_4_14', 'tpo_5-lecture_4_15', 'tpo_6-conversation_1_1', 'tpo_6-conversation_1_2', 'tpo_6-conversation_1_3', 'tpo_6-conversation_1_4', 'tpo_6-conversation_2_1', 'tpo_6-conversation_2_2', 'tpo_6-conversation_2_3', 'tpo_6-conversation_2_4', 'tpo_6-lecture_1_10', 'tpo_6-lecture_1_11', 'tpo_6-lecture_1_6', 'tpo_6-lecture_1_7', 'tpo_6-lecture_1_8', 'tpo_6-lecture_1_9', 'tpo_6-lecture_2_12', 'tpo_6-lecture_2_13', 'tpo_6-lecture_2_14', 'tpo_6-lecture_2_15', 'tpo_6-lecture_2_16', 'tpo_6-lecture_3_10', 'tpo_6-lecture_3_6', 'tpo_6-lecture_3_7', 'tpo_6-lecture_3_8', 'tpo_6-lecture_3_9', 'tpo_6-lecture_4_12', 'tpo_6-lecture_4_13', 'tpo_6-lecture_4_14', 'tpo_6-lecture_4_15', 'tpo_6-lecture_4_16', 'tpo_7-conversation_1_1', 'tpo_7-conversation_1_2', 'tpo_7-conversation_1_3', 'tpo_7-conversation_1_4', 'tpo_7-conversation_2_1', 'tpo_7-conversation_2_2', 'tpo_7-conversation_2_3', 'tpo_7-conversation_2_4', 'tpo_7-lecture_1_10', 'tpo_7-lecture_1_6', 'tpo_7-lecture_1_7', 'tpo_7-lecture_1_8', 'tpo_7-lecture_1_9', 'tpo_7-lecture_2_12', 'tpo_7-lecture_2_13', 'tpo_7-lecture_2_14', 'tpo_7-lecture_2_15', 'tpo_7-lecture_2_16', 'tpo_7-lecture_3_6', 'tpo_7-lecture_3_7', 'tpo_7-lecture_3_8', 'tpo_7-lecture_3_9', 'tpo_7-lecture_4_12', 'tpo_7-lecture_4_14', 'tpo_7-lecture_4_15', 'tpo_7-lecture_4_17', 'tpo_8-conversation_1_1', 'tpo_8-conversation_1_2', 'tpo_8-conversation_1_3', 'tpo_8-conversation_1_4', 'tpo_8-conversation_2_1', 'tpo_8-conversation_2_2', 'tpo_8-conversation_2_4', 'tpo_8-lecture_1_10', 'tpo_8-lecture_1_6', 'tpo_8-lecture_1_7', 'tpo_8-lecture_1_8', 'tpo_8-lecture_1_9', 'tpo_8-lecture_2_12', 'tpo_8-lecture_2_13', 'tpo_8-lecture_2_14', 'tpo_8-lecture_2_15', 'tpo_8-lecture_2_16', 'tpo_8-lecture_3_6', 'tpo_8-lecture_3_7', 'tpo_8-lecture_3_8', 'tpo_8-lecture_3_9', 'tpo_8-lecture_4_12', 'tpo_8-lecture_4_13', 'tpo_8-lecture_4_14', 'tpo_8-lecture_4_15', 'tpo_8-lecture_4_16', 'tpo_9-conversation_1_1', 'tpo_9-conversation_1_2', 'tpo_9-conversation_1_3', 'tpo_9-conversation_1_4', 'tpo_9-conversation_2_1', 'tpo_9-conversation_2_2', 'tpo_9-conversation_2_3', 'tpo_9-conversation_2_4', 'tpo_9-lecture_1_10', 'tpo_9-lecture_1_11', 'tpo_9-lecture_1_6', 'tpo_9-lecture_1_7', 'tpo_9-lecture_1_8', 'tpo_9-lecture_1_9', 'tpo_9-lecture_2_12', 'tpo_9-lecture_2_13', 'tpo_9-lecture_2_14', 'tpo_9-lecture_2_15', 'tpo_9-lecture_2_16', 'tpo_9-lecture_3_10', 'tpo_9-lecture_3_11', 'tpo_9-lecture_3_6', 'tpo_9-lecture_3_7', 'tpo_9-lecture_3_8', 'tpo_9-lecture_3_9', 'tpo_9-lecture_4_12', 'tpo_9-lecture_4_13', 'tpo_9-lecture_4_14', 'tpo_9-lecture_4_15', 'tpo_9-lecture_4_16'])\n"
     ]
    }
   ],
   "source": [
    "print(train_data.keys())"
   ]
  },
  {
   "cell_type": "code",
   "execution_count": 6,
   "id": "c3cbbfc8",
   "metadata": {},
   "outputs": [],
   "source": [
    "def print_data(key=\"tpo_7-lecture_3_9\"):\n",
    "    print(\" \".join([\" \".join(i) for i in train_data[key][\"sentences\"]]))\n",
    "    print(\" \".join(train_data[key][\"question\"]))\n",
    "    print(\" \".join(train_data[key][\"answer\"]))"
   ]
  },
  {
   "cell_type": "code",
   "execution_count": 7,
   "id": "8c657443",
   "metadata": {},
   "outputs": [],
   "source": [
    "from transformers import AutoTokenizer, AutoModelForTokenClassification\n",
    "  \n",
    "tokenizer = AutoTokenizer.from_pretrained(\"noahjadallah/cause-effect-detection\")\n",
    "\n",
    "model = AutoModelForTokenClassification.from_pretrained(\"noahjadallah/cause-effect-detection\")\n",
    "\n",
    "# https://colab.research.google.com/drive/14V9Ooy3aNPsRfTK88krwsereia8cfSPc?usp=sharing#scrollTo=eqYFDe_2HfQ7\n",
    "label_list = ['O', 'B-CAUSE', 'I-CAUSE', 'B-EFFECT', 'I-EFFECT']"
   ]
  },
  {
   "cell_type": "code",
   "execution_count": 8,
   "id": "2e444514",
   "metadata": {},
   "outputs": [
    {
     "name": "stdout",
     "output_type": "stream",
     "text": [
      "professor so we've been discussing 16th century native american life, and today we're going to focus on the iroquois and huron peoples. they lived in the northeastern great lakes region of north america. now, back then, their lifes depended on the natural resources of the forests, especially the birch tree. the birch tree can grow in many different types of soils and is prevalent in that area. now can anyone here describe a birch tree? student they are tall and white, the bark, i mean. professor yes. the birch tree has white bark, and this tough protective outer layer of the tree, this white bark, is waterproof. and this waterproof quality of the bark, it made it useful for making things like cooking containers, a variety of utensils. and if you peel birch bark in the winter, we call it the winter bark, another layer, a tougher inner layer of the tree adheres to the bark, producing a stronger material. so the winter bark was used for larger utensils and containers. student i know people make utensils out of wood, but utensils out of tree bark? professor well, birch bark is pliable and very easy to bend. the native americans would cut the bark and fold it into any shape they needed, then secure it with cords until it dried. they could fold the bark into many shapes. student so if they cooked in bowls made of birch bark, wouldn't that make the food taste funny? professor oh, that's one of the great things about birch bark. the taste of the birch tree doesn't get transferred to the food. so it was perfect for cooking containers. but the most important use of the bark, by far, was the canoe. since the northeast region of north american is interconnected by many streams and waterways, water transportation by vessels like a canoe was most essential. the paths through the woods were often overgrown, so water travel was much faster. and here's what the native americans did. they would peel large sheets of bark from the tree to form lightweight yet sturdy canoes. the bark was stretched over frames made from tree branches, stitched together and sealed with resin. you know that sticky liquid that comes out of the tree? and when it dries, it's watertight. one great thing about these birch bark canoes was, uh, they could carry a large amount of cargo. for example, a canoe weighing about 5 pounds could carry up to nine people and 25 pounds of cargo. student wow ! but how far could they travel that way? professor well like i said, the northeastern region is interconnected by rivers and streams and the ocean at the coast. the canoes allow them to travel over a vast area that today would take a few hours to fly over. you see, the native americans made canoes of all types, for travel on small streams or on large open ocean waters. for small streams, they made narrow, maneuverable boats, while, while larger canoes were needed for the ocean. they could travel throughout the area only occasionally having to portage, to carry the canoe over a land short distance to another nearby stream. and since the canoes were so light, this wasn't a difficult task. now how do you think this affected their lives? student well if they could travel so easily over such a large area, they could trade with people from other areas which i guess would lead them to form alliances? professor exactly. having an efficient means of transportation, well, that helps the iroquois to form a federation linked by natural waterways. and this federation expanded from what is now southern canada all the way south to the dalever river. and this efficiency of the birch bark canoe also made an impression on newcomers to the area. french traders in the 17th century modeled their well they adopted the design of the iroquois birch bark canoes, and they found they could travel great distances more than 15 kilometers a month. now besides the bark, native americans also used the wood of the birch tree. the young trees were used as supports for lodgings, with the waterproof bark used as roofing. branches were folded into snowshoes. and the native american people were all adept at running very fast over the snow in these birch branch snowshoes, which if you ever tried walking in snowshoes you know it wasn't easy.\n"
     ]
    }
   ],
   "source": [
    "def get_sentence_str(sentence_list):\n",
    "    sent = \" \".join(sentence_list)\n",
    "    sent = re.sub(r\" (?P<punc>[.?,])\", r\"\\1\", sent)\n",
    "    return sent\n",
    "def get_full_paragraph(sentences):\n",
    "    sent_list = []\n",
    "    for sent in sentences:\n",
    "        sent_list.append(get_sentence_str(sent))\n",
    "    return \" \".join(sent_list)\n",
    "print(get_full_paragraph(train_data[\"tpo_7-lecture_3_9\"][\"sentences\"]))"
   ]
  },
  {
   "cell_type": "code",
   "execution_count": 9,
   "id": "200ac14e",
   "metadata": {},
   "outputs": [],
   "source": [
    "def get_causation_prediction(sequence: str):\n",
    "    tokens = tokenizer.tokenize(tokenizer.decode(tokenizer.encode(sequence)))\n",
    "    inputs = tokenizer.encode(sequence, return_tensors=\"pt\")\n",
    "\n",
    "    outputs = model(inputs).logits\n",
    "    predictions = torch.argmax(outputs, dim=2)\n",
    "    return [(token, label_list[prediction]) for token, prediction in zip(tokens, predictions[0].numpy())]\n",
    "# sequence = \" \".join(train_data[\"tpo_7-lecture_3_9\"][\"sentences\"][3])\n",
    "# get_causation_prediction(sequence)\n",
    "# get_causation_prediction(get_full_paragraph(train_data[\"tpo_7-lecture_3_9\"][\"sentences\"]))"
   ]
  },
  {
   "cell_type": "code",
   "execution_count": 10,
   "id": "59b8dd9e",
   "metadata": {},
   "outputs": [],
   "source": [
    "# https://huggingface.co/iarfmoose/t5-base-question-generator\n",
    "# https://github.com/AMontgomerie/question_generator\n",
    "qg = QuestionGenerator()"
   ]
  },
  {
   "cell_type": "code",
   "execution_count": 11,
   "id": "f7ce1a95",
   "metadata": {},
   "outputs": [
    {
     "data": {
      "text/plain": [
       "'what types of soils can the birch tree grow in??'"
      ]
     },
     "execution_count": 11,
     "metadata": {},
     "output_type": "execute_result"
    }
   ],
   "source": [
    "# qg.generate(effect, \n",
    "#     num_questions=10, \n",
    "#     answer_style='all')\n",
    "custom_inputs = [\"<answer> many different types of soils <context> the birch tree can grow in many different types of soils and is prevalent in that area\"]\n",
    "custom_answers = [\n",
    "    [\n",
    "        {'answer': 'native americans', 'correct': False}, \n",
    "        {'answer': 'north american', 'correct': True}, \n",
    "        {'answer': 'americans', 'correct': False}, \n",
    "        {'answer': 'native american', 'correct': False}\n",
    "    ]\n",
    "]\n",
    "\n",
    "# qg_inputs = qg.generate_qg_inputs(text, \"multiple_choice\")\n",
    "# qg.generate_questions_from_inputs(qg_inputs)\n",
    "qg._generate_question(custom_inputs)"
   ]
  },
  {
   "cell_type": "code",
   "execution_count": 12,
   "id": "aff3560c",
   "metadata": {
    "scrolled": false
   },
   "outputs": [
    {
     "name": "stdout",
     "output_type": "stream",
     "text": [
      "what is the topic today???????\n",
      "\t answer> going to focus on and peoples \n",
      "\t context> professor so we've been discussing 16th century native american life, and today we're going to focus on the iroquois and huron peoples. they lived in the northeastern great lakes region of north america.\n",
      "\n",
      "where did the iroquois and huron peoples live??\n",
      "\t answer> they lived in northeastern lakes region of america \n",
      "\t context> professor so we've been discussing 16th century native american life, and today we're going to focus on the iroquois and huron peoples. they lived in the northeastern great lakes region of north america.\n",
      "\n",
      "what tree was the main source of their life?????????\n",
      "\t answer> their life ##s depended on forests birch \n",
      "\t context> they lived in the northeastern great lakes region of north america. now, back then, their lifes depended on the natural resources of the forests, especially the birch tree.\n",
      "\n",
      "what type of soil can the birch tree grow in???\n",
      "\t answer> the birch tree can grow in many different types of soils \n",
      "\t context> now, back then, their lifes depended on the natural resources of the forests, especially the birch tree. the birch tree can grow in many different types of soils and is prevalent in that area.\n",
      "\n",
      "is the bark waterproof??\n",
      "\t answer> tough protective outer layer of the tree white bark ##proof \n",
      "\t context> professor yes. the birch tree has white bark, and this tough protective outer layer of the tree, this white bark, is waterproof.\n",
      "\n",
      "what is the bark of birch??????????\n",
      "\t answer> made it useful for making things like cooking containers , a variety of ut ##ens ##ils \n",
      "\t context> the birch tree has white bark, and this tough protective outer layer of the tree, this white bark, is waterproof. and this waterproof quality of the bark, it made it useful for making things like cooking containers, a variety of utensils.\n",
      "\n",
      "what is the bark of birch?????????\n",
      "\t answer> [CLS] we call it the winter bark , another layer a tough ##er inner layer of the tree adhere ##s to the bark producing a stronger material \n",
      "\t context> and this waterproof quality of the bark, it made it useful for making things like cooking containers, a variety of utensils. and if you peel birch bark in the winter, we call it the winter bark, another layer, a tougher inner layer of the tree adheres to the bark, producing a stronger material.\n",
      "\n",
      "what is the bark used for???????\n",
      "\t answer> [CLS] so the winter bark was used for larger ut ##ens ##ils and containers \n",
      "\t context> and if you peel birch bark in the winter, we call it the winter bark, another layer, a tougher inner layer of the tree adheres to the bark, producing a stronger material. so the winter bark was used for larger utensils and containers.\n",
      "\n",
      "is birch bark pliable??\n",
      "\t answer> birch bark is pl ##iable and very easy to bend \n",
      "\t context> student i know people make utensils out of wood, but utensils out of tree bark? professor well, birch bark is pliable and very easy to bend.\n",
      "\n",
      "how would native americans secure birch bark??\n",
      "\t answer> the native americans would cut the bark fold into they secure it with cords dried \n",
      "\t context> professor well, birch bark is pliable and very easy to bend. the native americans would cut the bark and fold it into any shape they needed, then secure it with cords until it dried.\n",
      "\n",
      "how many shapes could the native americans fold the bark into??\n",
      "\t answer> they could fold the bark into many shapes \n",
      "\t context> the native americans would cut the bark and fold it into any shape they needed, then secure it with cords until it dried. they could fold the bark into many shapes.\n",
      "\n",
      "how would the food taste if they cooked in bowls made of birch bark?\n",
      "\t answer> that the food taste funny \n",
      "\t context> they could fold the bark into many shapes. student so if they cooked in bowls made of birch bark, wouldn't that make the food taste funny?\n",
      "\n",
      "what is the best thing about birch bark??\n",
      "\t answer> of the great things about birch bark \n",
      "\t context> student so if they cooked in bowls made of birch bark, wouldn't that make the food taste funny? professor oh, that's one of the great things about birch bark.\n",
      "\n",
      "what is the taste of birch bark??\n",
      "\t answer> the taste of the birch tree doesn t get transferred to the food \n",
      "\t context> professor oh, that's one of the great things about birch bark. the taste of the birch tree doesn't get transferred to the food.\n",
      "\n",
      "what is the best birch tree recipe for??\n",
      "\t answer> it was perfect for cooking containers \n",
      "\t context> the taste of the birch tree doesn't get transferred to the food. so it was perfect for cooking containers.\n",
      "\n",
      "what was the most important use of the bark??\n",
      "\t answer> [CLS] the most important use of the bark , by far was the canoe \n",
      "\t context> so it was perfect for cooking containers. but the most important use of the bark, by far, was the canoe.\n",
      "\n",
      "what was the most important use of the bark??\n",
      "\t answer> [CLS] water transportation by vessels like a canoe was most essential \n",
      "\t context> but the most important use of the bark, by far, was the canoe. since the northeast region of north american is interconnected by many streams and waterways, water transportation by vessels like a canoe was most essential.\n",
      "\n",
      "how was water transport in the northeast??\n",
      "\t answer> the paths through the woods were often overgrown water travel was much faster \n",
      "\t context> since the northeast region of north american is interconnected by many streams and waterways, water transportation by vessels like a canoe was most essential. the paths through the woods were often overgrown, so water travel was much faster.\n",
      "\n",
      "what did the native americans do??\n",
      "\t answer> the native americans did \n",
      "\t context> the paths through the woods were often overgrown, so water travel was much faster. and here's what the native americans did.\n",
      "\n",
      "what did the native americans do??\n",
      "\t answer> they would peel large sheets of bark from the tree form lightweight yet sturdy canoe ##s \n",
      "\t context> and here's what the native americans did. they would peel large sheets of bark from the tree to form lightweight yet sturdy canoes.\n",
      "\n",
      "how was the bark stretched over frames made from tree branches??\n",
      "\t answer> the bark was stretched over frames made from tree branches \n",
      "\t context> they would peel large sheets of bark from the tree to form lightweight yet sturdy canoes. the bark was stretched over frames made from tree branches, stitched together and sealed with resin.\n",
      "\n",
      "is it watertight??\n",
      "\t answer> [CLS] it ' s water ##tight \n",
      "\t context> you know that sticky liquid that comes out of the tree? and when it dries, it's watertight.\n",
      "\n",
      "what is the best thing about canoes??\n",
      "\t answer> great canoe could carry a large amount of cargo \n",
      "\t context> and when it dries, it's watertight. one great thing about these birch bark canoes was, uh, they could carry a large amount of cargo.\n",
      "\n",
      "how many people could a canoe carry??\n",
      "\t answer> could carry up to nine people and 25 pounds of cargo \n",
      "\t context> one great thing about these birch bark canoes was, uh, they could carry a large amount of cargo. for example, a canoe weighing about 5 pounds could carry up to nine people and 25 pounds of cargo.\n",
      "\n",
      "how far could they travel that way??\n",
      "\t answer> far could they travel way \n",
      "\t context> student wow ! but how far could they travel that way?\n",
      "\n",
      "how far could they travel that way??\n",
      "\t answer> the northeastern region is inter ##connected by rivers and streams and the ocean at the coast \n",
      "\t context> but how far could they travel that way? professor well like i said, the northeastern region is interconnected by rivers and streams and the ocean at the coast.\n",
      "\n",
      "how long would it take to fly over a vast area??\n",
      "\t answer> the canoe ##s allow them to travel over a vast area would take a few hours to fly over \n",
      "\t context> professor well like i said, the northeastern region is interconnected by rivers and streams and the ocean at the coast. the canoes allow them to travel over a vast area that today would take a few hours to fly over.\n",
      "\n",
      "what did the native americans make canoes for??\n",
      "\t answer> the native americans made canoe ##s of all types for travel \n",
      "\t context> the canoes allow them to travel over a vast area that today would take a few hours to fly over. you see, the native americans made canoes of all types, for travel on small streams or on large open ocean waters.\n",
      "\n"
     ]
    },
    {
     "name": "stdout",
     "output_type": "stream",
     "text": [
      "what kind of boats were needed for small streams??\n",
      "\t answer> they made narrow , maneuver ##able boats needed \n",
      "\t context> you see, the native americans made canoes of all types, for travel on small streams or on large open ocean waters. for small streams, they made narrow, maneuverable boats, while, while larger canoes were needed for the ocean.\n",
      "\n",
      "how many canoes were needed for the ocean??\n",
      "\t answer> they could travel throughout the area occasionally to canoe \n",
      "\t context> for small streams, they made narrow, maneuverable boats, while, while larger canoes were needed for the ocean. they could travel throughout the area only occasionally having to portage, to carry the canoe over a land short distance to another nearby stream.\n",
      "\n",
      "how did they get there??\n",
      "\t answer> [CLS] this wasn ' t a difficult task \n",
      "\t context> they could travel throughout the area only occasionally having to portage, to carry the canoe over a land short distance to another nearby stream. and since the canoes were so light, this wasn't a difficult task.\n",
      "\n",
      "how would this affect their lives?? if they could travel so easily over such\n",
      "\t answer> they could trade with people from other areas guess would lead them to form alliances \n",
      "\t context> now how do you think this affected their lives? student well if they could travel so easily over such a large area, they could trade with people from other areas which i guess would lead them to form alliances?\n",
      "\n",
      "how does the iroquois form a federation??\n",
      "\t answer> the iroquois to form a federation linked by natural waterways \n",
      "\t context> professor exactly. having an efficient means of transportation, well, that helps the iroquois to form a federation linked by natural waterways.\n",
      "\n",
      "what is the iroquois federation??\n",
      "\t answer> this federation expanded from what is now southern canada all the way south to the ##ver river \n",
      "\t context> having an efficient means of transportation, well, that helps the iroquois to form a federation linked by natural waterways. and this federation expanded from what is now southern canada all the way south to the dalever river.\n",
      "\n",
      "what is the impact of the birch bark canoe on newcomers to the\n",
      "\t answer> efficiency of the birch bark canoe also made an impression on newcomers to the area \n",
      "\t context> and this federation expanded from what is now southern canada all the way south to the dalever river. and this efficiency of the birch bark canoe also made an impression on newcomers to the area.\n",
      "\n",
      "how many kilometers a month could they travel??\n",
      "\t answer> design iroquois they found could travel great distances more than 15 kilometers \n",
      "\t context> and this efficiency of the birch bark canoe also made an impression on newcomers to the area. french traders in the 17th century modeled their well they adopted the design of the iroquois birch bark canoes, and they found they could travel great distances more than 15 kilometers a month.\n",
      "\n",
      "what is the bark of birch????????\n",
      "\t answer> [CLS] native americans also used the wood of the birch tree \n",
      "\t context> french traders in the 17th century modeled their well they adopted the design of the iroquois birch bark canoes, and they found they could travel great distances more than 15 kilometers a month. now besides the bark, native americans also used the wood of the birch tree.\n",
      "\n",
      "what was used as a support for lodging???????\n",
      "\t answer> the young trees were used as supports for lodging ##s \n",
      "\t context> now besides the bark, native americans also used the wood of the birch tree. the young trees were used as supports for lodgings, with the waterproof bark used as roofing.\n",
      "\n",
      "what was used as a roof??\n",
      "\t answer> branches were folded into snow ##es \n",
      "\t context> the young trees were used as supports for lodgings, with the waterproof bark used as roofing. branches were folded into snowshoes.\n",
      "\n",
      "how did the native americans run over the trees??\n",
      "\t answer> the native american people were all adept at running very fast over the you know it wasn t easy \n",
      "\t context> the young trees were used as supports for lodgings, with the waterproof bark used as roofing. branches were folded into snowshoes.\n",
      "\n"
     ]
    }
   ],
   "source": [
    "inputs = []\n",
    "passage = \"tpo_7-lecture_3_9\"\n",
    "sentences = train_data[passage][\"sentences\"]\n",
    "\n",
    "for ind in range(len(sentences)):\n",
    "    sentence = sentences[ind]\n",
    "    if ind == 0:\n",
    "        context = \" \".join([get_sentence_str(i) for i in sentences[ind: ind + 2]])\n",
    "    elif ind == len(sentences) - 1:\n",
    "        context = \" \".join([get_sentence_str(i) for i in sentences[ind - 2: ind]])\n",
    "    else:\n",
    "        context = \" \".join([get_sentence_str(i) for i in sentences[ind - 1: ind + 1]])\n",
    "    sent_str = get_sentence_str(sentence)\n",
    "    causation = get_causation_prediction(sent_str)\n",
    "    tokens = [token for token, pred in causation if pred.endswith(\"EFFECT\")]\n",
    "    if len(tokens) > 3:\n",
    "        ans = \" \".join(tokens)\n",
    "        inputs.append(f\"<answer> {ans} <context> {context}\")\n",
    "for i in inputs:\n",
    "    print(qg._generate_question(i))\n",
    "    print(f\"\\t {i.split('<')[1]}\")\n",
    "    print(f\"\\t {i.split('<')[2]}\")\n",
    "    print()"
   ]
  },
  {
   "cell_type": "code",
   "execution_count": 13,
   "id": "ac80046a",
   "metadata": {},
   "outputs": [
    {
     "name": "stdout",
     "output_type": "stream",
     "text": [
      "Generating questions...\n",
      "\n"
     ]
    },
    {
     "name": "stderr",
     "output_type": "stream",
     "text": [
      "C:\\Users\\Kevin\\anaconda3\\envs\\idl_p\\lib\\site-packages\\transformers\\models\\t5\\tokenization_t5.py:190: UserWarning: This sequence already has </s>. In future versions this behavior may lead to duplicated eos tokens being added.\n",
      "  warnings.warn(\n"
     ]
    },
    {
     "name": "stdout",
     "output_type": "stream",
     "text": [
      "Evaluating QA pairs...\n",
      "\n"
     ]
    },
    {
     "data": {
      "text/plain": [
       "[{'question': 'what is the name of the bark?',\n",
       "  'answer': 'and if you peel birch bark in the winter, we call it the winter bark, another layer, a tougher inner layer of the tree adheres to the bark, producing a stronger material.'},\n",
       " {'question': 'what shape could the native americans make utensils out of?',\n",
       "  'answer': 'they could fold the bark into many shapes.'},\n",
       " {'question': 'what did the native americans do with the bark?',\n",
       "  'answer': 'the native americans would cut the bark and fold it into any shape they needed, then secure it with cords until it dried.'},\n",
       " {'question': 'what type of soil can birch trees grow in?',\n",
       "  'answer': 'the birch tree can grow in many different types of soils and is prevalent in that area.'},\n",
       " {'question': 'what is the best way to describe birch bark?',\n",
       "  'answer': \"professor oh, that's one of the great things about birch bark.\"},\n",
       " {'question': 'what was the most important use of birch bark?',\n",
       "  'answer': 'now, back then, their lifes depended on the natural resources of the forests, especially the birch tree.'},\n",
       " {'question': 'what is the best description of birch bark?',\n",
       "  'answer': 'professor well, birch bark is pliable and very easy to bend.'},\n",
       " {'question': 'what is the meaning of birch bark?',\n",
       "  'answer': 'now can anyone here describe a birch tree?'},\n",
       " {'question': 'what is the best thing about birch bark?',\n",
       "  'answer': \"the taste of the birch tree doesn't get transferred to the food.\"},\n",
       " {'question': 'what was the most important use of birch bark?',\n",
       "  'answer': 'so the winter bark was used for larger utensils and containers.'},\n",
       " {'question': 'what is the best description of birch bark?',\n",
       "  'answer': 'the birch tree has white bark, and this tough protective outer layer of the tree, this white bark, is waterproof.'},\n",
       " {'question': 'what was the most important use of the bark?',\n",
       "  'answer': 'but the most important use of the bark, by far, was the canoe.'},\n",
       " {'question': 'where did the native americans live?',\n",
       "  'answer': 'they lived in the northeastern great lakes region of north america.'},\n",
       " {'question': 'what is the best description of birch bark?',\n",
       "  'answer': 'and this waterproof quality of the bark, it made it useful for making things like cooking containers, a variety of utensils.'},\n",
       " {'question': 'what is the name of the tree?',\n",
       "  'answer': 'student they are tall and white, the bark, i mean.'},\n",
       " {'question': 'what was the most important use of birch bark?',\n",
       "  'answer': 'so it was perfect for cooking containers.'},\n",
       " {'question': 'what is the best answer to this question?',\n",
       "  'answer': 'student i know people make utensils out of wood, but utensils out of tree bark?'},\n",
       " {'question': 'what is the best answer to this question?',\n",
       "  'answer': \"student so if they cooked in bowls made of birch bark, wouldn't that make the food taste funny?\"},\n",
       " {'question': 'what is the history of birch bark?',\n",
       "  'answer': \"professor so we've been discussing 16th century native american life, and today we're going to focus on the iroquois and huron peoples.\"},\n",
       " {'question': 'what is the difference between birch and huron?',\n",
       "  'answer': 'professor yes.'}]"
      ]
     },
     "execution_count": 13,
     "metadata": {},
     "output_type": "execute_result"
    }
   ],
   "source": [
    "text = get_full_paragraph(train_data[\"tpo_7-lecture_3_9\"][\"sentences\"][:20])\n",
    "qg.generate(text, \n",
    "    num_questions=20, \n",
    "    answer_style='sentences')"
   ]
  },
  {
   "cell_type": "code",
   "execution_count": null,
   "id": "ec9e95b8",
   "metadata": {},
   "outputs": [],
   "source": []
  }
 ],
 "metadata": {
  "kernelspec": {
   "display_name": "Python [conda env:idl_p]",
   "language": "python",
   "name": "conda-env-idl_p-py"
  },
  "language_info": {
   "codemirror_mode": {
    "name": "ipython",
    "version": 3
   },
   "file_extension": ".py",
   "mimetype": "text/x-python",
   "name": "python",
   "nbconvert_exporter": "python",
   "pygments_lexer": "ipython3",
   "version": "3.9.7"
  }
 },
 "nbformat": 4,
 "nbformat_minor": 5
}
