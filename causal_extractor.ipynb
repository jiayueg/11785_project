{
 "cells": [
  {
   "cell_type": "code",
   "execution_count": 1,
   "id": "1051a69e",
   "metadata": {},
   "outputs": [],
   "source": [
    "import torch, datasets\n",
    "import sys\n",
    "import importlib  \n",
    "from external.questiongenerator import *\n",
    "import re\n",
    "from datasets import load_metric\n",
    "\n",
    "util = importlib.import_module(\"data.TOEFL-QA.utils\")"
   ]
  },
  {
   "cell_type": "code",
   "execution_count": 2,
   "id": "5266a8fd",
   "metadata": {},
   "outputs": [],
   "source": [
    "TOEFL_DATA = \"./data/TOEFL-QA/data\""
   ]
  },
  {
   "cell_type": "code",
   "execution_count": 3,
   "id": "6f0c073b",
   "metadata": {},
   "outputs": [],
   "source": [
    "train_data, validation_data, test_data = tuple(util.load_data(TOEFL_DATA))"
   ]
  },
  {
   "cell_type": "markdown",
   "id": "7676b533",
   "metadata": {},
   "source": [
    "\n",
    "### print(train_data.keys())"
   ]
  },
  {
   "cell_type": "code",
   "execution_count": 5,
   "id": "c3cbbfc8",
   "metadata": {},
   "outputs": [],
   "source": [
    "def print_data(key=\"tpo_7-lecture_3_9\"):\n",
    "    print(\" \".join([\" \".join(i) for i in train_data[key][\"sentences\"]]))\n",
    "    print(\" \".join(train_data[key][\"question\"]))\n",
    "    print(\" \".join(train_data[key][\"answer\"]))"
   ]
  },
  {
   "cell_type": "code",
   "execution_count": 6,
   "id": "8c657443",
   "metadata": {},
   "outputs": [],
   "source": [
    "from transformers import AutoTokenizer, AutoModelForTokenClassification\n",
    "  \n",
    "tokenizer = AutoTokenizer.from_pretrained(\"noahjadallah/cause-effect-detection\")\n",
    "\n",
    "model = AutoModelForTokenClassification.from_pretrained(\"noahjadallah/cause-effect-detection\")\n",
    "\n",
    "# https://colab.research.google.com/drive/14V9Ooy3aNPsRfTK88krwsereia8cfSPc?usp=sharing#scrollTo=eqYFDe_2HfQ7\n",
    "label_list = ['O', 'B-CAUSE', 'I-CAUSE', 'B-EFFECT', 'I-EFFECT']"
   ]
  },
  {
   "cell_type": "code",
   "execution_count": 7,
   "id": "2e444514",
   "metadata": {},
   "outputs": [
    {
     "name": "stdout",
     "output_type": "stream",
     "text": [
      "professor so we've been discussing 16th century native american life, and today we're going to focus on the iroquois and huron peoples. they lived in the northeastern great lakes region of north america. now, back then, their lifes depended on the natural resources of the forests, especially the birch tree. the birch tree can grow in many different types of soils and is prevalent in that area. now can anyone here describe a birch tree? student they are tall and white, the bark, i mean. professor yes. the birch tree has white bark, and this tough protective outer layer of the tree, this white bark, is waterproof. and this waterproof quality of the bark, it made it useful for making things like cooking containers, a variety of utensils. and if you peel birch bark in the winter, we call it the winter bark, another layer, a tougher inner layer of the tree adheres to the bark, producing a stronger material. so the winter bark was used for larger utensils and containers. student i know people make utensils out of wood, but utensils out of tree bark? professor well, birch bark is pliable and very easy to bend. the native americans would cut the bark and fold it into any shape they needed, then secure it with cords until it dried. they could fold the bark into many shapes. student so if they cooked in bowls made of birch bark, wouldn't that make the food taste funny? professor oh, that's one of the great things about birch bark. the taste of the birch tree doesn't get transferred to the food. so it was perfect for cooking containers. but the most important use of the bark, by far, was the canoe. since the northeast region of north american is interconnected by many streams and waterways, water transportation by vessels like a canoe was most essential. the paths through the woods were often overgrown, so water travel was much faster. and here's what the native americans did. they would peel large sheets of bark from the tree to form lightweight yet sturdy canoes. the bark was stretched over frames made from tree branches, stitched together and sealed with resin. you know that sticky liquid that comes out of the tree? and when it dries, it's watertight. one great thing about these birch bark canoes was, uh, they could carry a large amount of cargo. for example, a canoe weighing about 5 pounds could carry up to nine people and 25 pounds of cargo. student wow ! but how far could they travel that way? professor well like i said, the northeastern region is interconnected by rivers and streams and the ocean at the coast. the canoes allow them to travel over a vast area that today would take a few hours to fly over. you see, the native americans made canoes of all types, for travel on small streams or on large open ocean waters. for small streams, they made narrow, maneuverable boats, while, while larger canoes were needed for the ocean. they could travel throughout the area only occasionally having to portage, to carry the canoe over a land short distance to another nearby stream. and since the canoes were so light, this wasn't a difficult task. now how do you think this affected their lives? student well if they could travel so easily over such a large area, they could trade with people from other areas which i guess would lead them to form alliances? professor exactly. having an efficient means of transportation, well, that helps the iroquois to form a federation linked by natural waterways. and this federation expanded from what is now southern canada all the way south to the dalever river. and this efficiency of the birch bark canoe also made an impression on newcomers to the area. french traders in the 17th century modeled their well they adopted the design of the iroquois birch bark canoes, and they found they could travel great distances more than 15 kilometers a month. now besides the bark, native americans also used the wood of the birch tree. the young trees were used as supports for lodgings, with the waterproof bark used as roofing. branches were folded into snowshoes. and the native american people were all adept at running very fast over the snow in these birch branch snowshoes, which if you ever tried walking in snowshoes you know it wasn't easy.\n"
     ]
    }
   ],
   "source": [
    "def get_sentence_str(sentence_list):\n",
    "    sent = \" \".join(sentence_list)\n",
    "    sent = re.sub(r\" (?P<punc>[.?,])\", r\"\\1\", sent)\n",
    "    return sent\n",
    "def get_full_paragraph(sentences):\n",
    "    sent_list = []\n",
    "    for sent in sentences:\n",
    "        sent_list.append(get_sentence_str(sent))\n",
    "    return \" \".join(sent_list)\n",
    "print(get_full_paragraph(train_data[\"tpo_7-lecture_3_9\"][\"sentences\"]))"
   ]
  },
  {
   "cell_type": "code",
   "execution_count": 59,
   "id": "200ac14e",
   "metadata": {},
   "outputs": [
    {
     "data": {
      "text/plain": [
       "[('[CLS]', 'O'),\n",
       " ('the', 'O'),\n",
       " ('birch', 'O'),\n",
       " ('tree', 'O'),\n",
       " ('has', 'O'),\n",
       " ('white', 'O'),\n",
       " ('bark', 'O'),\n",
       " (',', 'O'),\n",
       " ('and', 'O'),\n",
       " ('this', 'O'),\n",
       " ('tough', 'I-EFFECT'),\n",
       " ('protective', 'I-EFFECT'),\n",
       " ('outer', 'I-EFFECT'),\n",
       " ('layer', 'I-EFFECT'),\n",
       " ('of', 'I-EFFECT'),\n",
       " ('the', 'I-EFFECT'),\n",
       " ('tree', 'I-EFFECT'),\n",
       " (',', 'O'),\n",
       " ('this', 'O'),\n",
       " ('white', 'I-EFFECT'),\n",
       " ('bark', 'I-EFFECT'),\n",
       " (',', 'O'),\n",
       " ('is', 'O'),\n",
       " ('water', 'O'),\n",
       " ('##proof', 'I-EFFECT'),\n",
       " ('.', 'O'),\n",
       " ('[SEP]', 'O')]"
      ]
     },
     "execution_count": 59,
     "metadata": {},
     "output_type": "execute_result"
    }
   ],
   "source": [
    "def get_causation_prediction(sequence: str):\n",
    "    tokens = tokenizer.tokenize(tokenizer.decode(tokenizer.encode(sequence)))\n",
    "    inputs = tokenizer.encode(sequence, return_tensors=\"pt\")\n",
    "\n",
    "    outputs = model(inputs).logits\n",
    "    predictions = torch.argmax(outputs, dim=2)\n",
    "    return [(token, label_list[prediction]) for token, prediction in zip(tokens, predictions[0].numpy())]\n",
    "sequence = \" \".join(train_data[\"tpo_7-lecture_3_9\"][\"sentences\"][7])\n",
    "get_causation_prediction(sequence)\n",
    "# get_causation_prediction(get_full_paragraph(train_data[\"tpo_7-lecture_3_9\"][\"sentences\"])[:300])"
   ]
  },
  {
   "cell_type": "code",
   "execution_count": 9,
   "id": "59b8dd9e",
   "metadata": {},
   "outputs": [],
   "source": [
    "# https://huggingface.co/iarfmoose/t5-base-question-generator\n",
    "# https://github.com/AMontgomerie/question_generator\n",
    "qg = QuestionGenerator()"
   ]
  },
  {
   "cell_type": "code",
   "execution_count": 10,
   "id": "f7ce1a95",
   "metadata": {},
   "outputs": [
    {
     "data": {
      "text/plain": [
       "'what types of soils can the birch tree grow in??'"
      ]
     },
     "execution_count": 10,
     "metadata": {},
     "output_type": "execute_result"
    }
   ],
   "source": [
    "# qg.generate(effect, \n",
    "#     num_questions=10, \n",
    "#     answer_style='all')\n",
    "custom_inputs = [\"<answer> many different types of soils <context> the birch tree can grow in many different types of soils and is prevalent in that area\"]\n",
    "custom_answers = [\n",
    "    [\n",
    "        {'answer': 'native americans', 'correct': False}, \n",
    "        {'answer': 'north american', 'correct': True}, \n",
    "        {'answer': 'americans', 'correct': False}, \n",
    "        {'answer': 'native american', 'correct': False}\n",
    "    ]\n",
    "]\n",
    "\n",
    "# qg._generate_question(custom_inputs)"
   ]
  },
  {
   "cell_type": "code",
   "execution_count": 61,
   "id": "aff3560c",
   "metadata": {
    "scrolled": false
   },
   "outputs": [
    {
     "name": "stdout",
     "output_type": "stream",
     "text": [
      "[\"<answer> going to focus on and peoples <context> professor so we've been discussing 16th century native american life, and today we're going to focus on the iroquois and huron peoples. they lived in the northeastern great lakes region of north america.\", \"<answer> they lived in northeastern lakes region of america <context> professor so we've been discussing 16th century native american life, and today we're going to focus on the iroquois and huron peoples. they lived in the northeastern great lakes region of north america.\", '<answer> their life ##s depended on forests birch <context> they lived in the northeastern great lakes region of north america. now, back then, their lifes depended on the natural resources of the forests, especially the birch tree.', '<answer> the birch tree can grow in many different types of soils <context> now, back then, their lifes depended on the natural resources of the forests, especially the birch tree. the birch tree can grow in many different types of soils and is prevalent in that area.', '<answer> tough protective outer layer of the tree white bark ##proof <context> professor yes. the birch tree has white bark, and this tough protective outer layer of the tree, this white bark, is waterproof.', '<answer> made it useful for making things like cooking containers , a variety of ut ##ens ##ils <context> the birch tree has white bark, and this tough protective outer layer of the tree, this white bark, is waterproof. and this waterproof quality of the bark, it made it useful for making things like cooking containers, a variety of utensils.', '<answer> [CLS] we call it the winter bark , another layer a tough ##er inner layer of the tree adhere ##s to the bark producing a stronger material <context> and this waterproof quality of the bark, it made it useful for making things like cooking containers, a variety of utensils. and if you peel birch bark in the winter, we call it the winter bark, another layer, a tougher inner layer of the tree adheres to the bark, producing a stronger material.', '<answer> [CLS] so the winter bark was used for larger ut ##ens ##ils and containers <context> and if you peel birch bark in the winter, we call it the winter bark, another layer, a tougher inner layer of the tree adheres to the bark, producing a stronger material. so the winter bark was used for larger utensils and containers.', '<answer> birch bark is pl ##iable and very easy to bend <context> student i know people make utensils out of wood, but utensils out of tree bark? professor well, birch bark is pliable and very easy to bend.', '<answer> the native americans would cut the bark fold into they secure it with cords dried <context> professor well, birch bark is pliable and very easy to bend. the native americans would cut the bark and fold it into any shape they needed, then secure it with cords until it dried.', '<answer> they could fold the bark into many shapes <context> the native americans would cut the bark and fold it into any shape they needed, then secure it with cords until it dried. they could fold the bark into many shapes.', \"<answer> that the food taste funny <context> they could fold the bark into many shapes. student so if they cooked in bowls made of birch bark, wouldn't that make the food taste funny?\", \"<answer> of the great things about birch bark <context> student so if they cooked in bowls made of birch bark, wouldn't that make the food taste funny? professor oh, that's one of the great things about birch bark.\", \"<answer> the taste of the birch tree doesn t get transferred to the food <context> professor oh, that's one of the great things about birch bark. the taste of the birch tree doesn't get transferred to the food.\", \"<answer> it was perfect for cooking containers <context> the taste of the birch tree doesn't get transferred to the food. so it was perfect for cooking containers.\", '<answer> [CLS] the most important use of the bark , by far was the canoe <context> so it was perfect for cooking containers. but the most important use of the bark, by far, was the canoe.', '<answer> [CLS] water transportation by vessels like a canoe was most essential <context> but the most important use of the bark, by far, was the canoe. since the northeast region of north american is interconnected by many streams and waterways, water transportation by vessels like a canoe was most essential.', '<answer> the paths through the woods were often overgrown water travel was much faster <context> since the northeast region of north american is interconnected by many streams and waterways, water transportation by vessels like a canoe was most essential. the paths through the woods were often overgrown, so water travel was much faster.', \"<answer> the native americans did <context> the paths through the woods were often overgrown, so water travel was much faster. and here's what the native americans did.\", \"<answer> they would peel large sheets of bark from the tree form lightweight yet sturdy canoe ##s <context> and here's what the native americans did. they would peel large sheets of bark from the tree to form lightweight yet sturdy canoes.\", '<answer> the bark was stretched over frames made from tree branches <context> they would peel large sheets of bark from the tree to form lightweight yet sturdy canoes. the bark was stretched over frames made from tree branches, stitched together and sealed with resin.', \"<answer> [CLS] it ' s water ##tight <context> you know that sticky liquid that comes out of the tree? and when it dries, it's watertight.\", \"<answer> great canoe could carry a large amount of cargo <context> and when it dries, it's watertight. one great thing about these birch bark canoes was, uh, they could carry a large amount of cargo.\", '<answer> could carry up to nine people and 25 pounds of cargo <context> one great thing about these birch bark canoes was, uh, they could carry a large amount of cargo. for example, a canoe weighing about 5 pounds could carry up to nine people and 25 pounds of cargo.', '<answer> far could they travel way <context> student wow ! but how far could they travel that way?', '<answer> the northeastern region is inter ##connected by rivers and streams and the ocean at the coast <context> but how far could they travel that way? professor well like i said, the northeastern region is interconnected by rivers and streams and the ocean at the coast.', '<answer> the canoe ##s allow them to travel over a vast area would take a few hours to fly over <context> professor well like i said, the northeastern region is interconnected by rivers and streams and the ocean at the coast. the canoes allow them to travel over a vast area that today would take a few hours to fly over.', '<answer> the native americans made canoe ##s of all types for travel <context> the canoes allow them to travel over a vast area that today would take a few hours to fly over. you see, the native americans made canoes of all types, for travel on small streams or on large open ocean waters.', '<answer> they made narrow , maneuver ##able boats needed <context> you see, the native americans made canoes of all types, for travel on small streams or on large open ocean waters. for small streams, they made narrow, maneuverable boats, while, while larger canoes were needed for the ocean.', '<answer> they could travel throughout the area occasionally to canoe <context> for small streams, they made narrow, maneuverable boats, while, while larger canoes were needed for the ocean. they could travel throughout the area only occasionally having to portage, to carry the canoe over a land short distance to another nearby stream.', \"<answer> [CLS] this wasn ' t a difficult task <context> they could travel throughout the area only occasionally having to portage, to carry the canoe over a land short distance to another nearby stream. and since the canoes were so light, this wasn't a difficult task.\", '<answer> they could trade with people from other areas guess would lead them to form alliances <context> now how do you think this affected their lives? student well if they could travel so easily over such a large area, they could trade with people from other areas which i guess would lead them to form alliances?', '<answer> the iroquois to form a federation linked by natural waterways <context> professor exactly. having an efficient means of transportation, well, that helps the iroquois to form a federation linked by natural waterways.', '<answer> this federation expanded from what is now southern canada all the way south to the ##ver river <context> having an efficient means of transportation, well, that helps the iroquois to form a federation linked by natural waterways. and this federation expanded from what is now southern canada all the way south to the dalever river.', '<answer> efficiency of the birch bark canoe also made an impression on newcomers to the area <context> and this federation expanded from what is now southern canada all the way south to the dalever river. and this efficiency of the birch bark canoe also made an impression on newcomers to the area.', '<answer> design iroquois they found could travel great distances more than 15 kilometers <context> and this efficiency of the birch bark canoe also made an impression on newcomers to the area. french traders in the 17th century modeled their well they adopted the design of the iroquois birch bark canoes, and they found they could travel great distances more than 15 kilometers a month.', '<answer> [CLS] native americans also used the wood of the birch tree <context> french traders in the 17th century modeled their well they adopted the design of the iroquois birch bark canoes, and they found they could travel great distances more than 15 kilometers a month. now besides the bark, native americans also used the wood of the birch tree.', '<answer> the young trees were used as supports for lodging ##s <context> now besides the bark, native americans also used the wood of the birch tree. the young trees were used as supports for lodgings, with the waterproof bark used as roofing.', '<answer> branches were folded into snow ##es <context> the young trees were used as supports for lodgings, with the waterproof bark used as roofing. branches were folded into snowshoes.', '<answer> the native american people were all adept at running very fast over the you know it wasn t easy <context> the young trees were used as supports for lodgings, with the waterproof bark used as roofing. branches were folded into snowshoes.']\n"
     ]
    },
    {
     "name": "stdout",
     "output_type": "stream",
     "text": [
      "what is the topic today???????\n",
      "\t answer> going to focus on and peoples \n",
      "\t context> professor so we've been discussing 16th century native american life, and today we're going to focus on the iroquois and huron peoples. they lived in the northeastern great lakes region of north america.\n",
      "\n",
      "where did the iroquois and huron peoples live??\n",
      "\t answer> they lived in northeastern lakes region of america \n",
      "\t context> professor so we've been discussing 16th century native american life, and today we're going to focus on the iroquois and huron peoples. they lived in the northeastern great lakes region of north america.\n",
      "\n",
      "what tree was the main source of their life?????????\n",
      "\t answer> their life ##s depended on forests birch \n",
      "\t context> they lived in the northeastern great lakes region of north america. now, back then, their lifes depended on the natural resources of the forests, especially the birch tree.\n",
      "\n",
      "what type of soil can the birch tree grow in???\n",
      "\t answer> the birch tree can grow in many different types of soils \n",
      "\t context> now, back then, their lifes depended on the natural resources of the forests, especially the birch tree. the birch tree can grow in many different types of soils and is prevalent in that area.\n",
      "\n",
      "is the bark waterproof??\n",
      "\t answer> tough protective outer layer of the tree white bark ##proof \n",
      "\t context> professor yes. the birch tree has white bark, and this tough protective outer layer of the tree, this white bark, is waterproof.\n",
      "\n",
      "what is the bark of birch??????????\n",
      "\t answer> made it useful for making things like cooking containers , a variety of ut ##ens ##ils \n",
      "\t context> the birch tree has white bark, and this tough protective outer layer of the tree, this white bark, is waterproof. and this waterproof quality of the bark, it made it useful for making things like cooking containers, a variety of utensils.\n",
      "\n",
      "what is the bark of birch?????????\n",
      "\t answer> [CLS] we call it the winter bark , another layer a tough ##er inner layer of the tree adhere ##s to the bark producing a stronger material \n",
      "\t context> and this waterproof quality of the bark, it made it useful for making things like cooking containers, a variety of utensils. and if you peel birch bark in the winter, we call it the winter bark, another layer, a tougher inner layer of the tree adheres to the bark, producing a stronger material.\n",
      "\n",
      "what is the bark used for???????\n",
      "\t answer> [CLS] so the winter bark was used for larger ut ##ens ##ils and containers \n",
      "\t context> and if you peel birch bark in the winter, we call it the winter bark, another layer, a tougher inner layer of the tree adheres to the bark, producing a stronger material. so the winter bark was used for larger utensils and containers.\n",
      "\n",
      "is birch bark pliable??\n",
      "\t answer> birch bark is pl ##iable and very easy to bend \n",
      "\t context> student i know people make utensils out of wood, but utensils out of tree bark? professor well, birch bark is pliable and very easy to bend.\n",
      "\n",
      "how would native americans secure birch bark??\n",
      "\t answer> the native americans would cut the bark fold into they secure it with cords dried \n",
      "\t context> professor well, birch bark is pliable and very easy to bend. the native americans would cut the bark and fold it into any shape they needed, then secure it with cords until it dried.\n",
      "\n",
      "how many shapes could the native americans fold the bark into??\n",
      "\t answer> they could fold the bark into many shapes \n",
      "\t context> the native americans would cut the bark and fold it into any shape they needed, then secure it with cords until it dried. they could fold the bark into many shapes.\n",
      "\n",
      "how would the food taste if they cooked in bowls made of birch bark?\n",
      "\t answer> that the food taste funny \n",
      "\t context> they could fold the bark into many shapes. student so if they cooked in bowls made of birch bark, wouldn't that make the food taste funny?\n",
      "\n",
      "what is the best thing about birch bark??\n",
      "\t answer> of the great things about birch bark \n",
      "\t context> student so if they cooked in bowls made of birch bark, wouldn't that make the food taste funny? professor oh, that's one of the great things about birch bark.\n",
      "\n",
      "what is the taste of birch bark??\n",
      "\t answer> the taste of the birch tree doesn t get transferred to the food \n",
      "\t context> professor oh, that's one of the great things about birch bark. the taste of the birch tree doesn't get transferred to the food.\n",
      "\n",
      "what is the best birch tree recipe for??\n",
      "\t answer> it was perfect for cooking containers \n",
      "\t context> the taste of the birch tree doesn't get transferred to the food. so it was perfect for cooking containers.\n",
      "\n",
      "what was the most important use of the bark??\n",
      "\t answer> [CLS] the most important use of the bark , by far was the canoe \n",
      "\t context> so it was perfect for cooking containers. but the most important use of the bark, by far, was the canoe.\n",
      "\n",
      "what was the most important use of the bark??\n",
      "\t answer> [CLS] water transportation by vessels like a canoe was most essential \n",
      "\t context> but the most important use of the bark, by far, was the canoe. since the northeast region of north american is interconnected by many streams and waterways, water transportation by vessels like a canoe was most essential.\n",
      "\n",
      "how was water transport in the northeast??\n",
      "\t answer> the paths through the woods were often overgrown water travel was much faster \n",
      "\t context> since the northeast region of north american is interconnected by many streams and waterways, water transportation by vessels like a canoe was most essential. the paths through the woods were often overgrown, so water travel was much faster.\n",
      "\n",
      "what did the native americans do??\n",
      "\t answer> the native americans did \n",
      "\t context> the paths through the woods were often overgrown, so water travel was much faster. and here's what the native americans did.\n",
      "\n",
      "what did the native americans do??\n",
      "\t answer> they would peel large sheets of bark from the tree form lightweight yet sturdy canoe ##s \n",
      "\t context> and here's what the native americans did. they would peel large sheets of bark from the tree to form lightweight yet sturdy canoes.\n",
      "\n",
      "how was the bark stretched over frames made from tree branches??\n",
      "\t answer> the bark was stretched over frames made from tree branches \n",
      "\t context> they would peel large sheets of bark from the tree to form lightweight yet sturdy canoes. the bark was stretched over frames made from tree branches, stitched together and sealed with resin.\n",
      "\n",
      "is it watertight??\n",
      "\t answer> [CLS] it ' s water ##tight \n",
      "\t context> you know that sticky liquid that comes out of the tree? and when it dries, it's watertight.\n",
      "\n",
      "what is the best thing about canoes??\n",
      "\t answer> great canoe could carry a large amount of cargo \n",
      "\t context> and when it dries, it's watertight. one great thing about these birch bark canoes was, uh, they could carry a large amount of cargo.\n",
      "\n",
      "how many people could a canoe carry??\n",
      "\t answer> could carry up to nine people and 25 pounds of cargo \n",
      "\t context> one great thing about these birch bark canoes was, uh, they could carry a large amount of cargo. for example, a canoe weighing about 5 pounds could carry up to nine people and 25 pounds of cargo.\n",
      "\n",
      "how far could they travel that way??\n",
      "\t answer> far could they travel way \n",
      "\t context> student wow ! but how far could they travel that way?\n",
      "\n",
      "how far could they travel that way??\n",
      "\t answer> the northeastern region is inter ##connected by rivers and streams and the ocean at the coast \n",
      "\t context> but how far could they travel that way? professor well like i said, the northeastern region is interconnected by rivers and streams and the ocean at the coast.\n",
      "\n",
      "how long would it take to fly over a vast area??\n",
      "\t answer> the canoe ##s allow them to travel over a vast area would take a few hours to fly over \n",
      "\t context> professor well like i said, the northeastern region is interconnected by rivers and streams and the ocean at the coast. the canoes allow them to travel over a vast area that today would take a few hours to fly over.\n",
      "\n",
      "what did the native americans make canoes for??\n",
      "\t answer> the native americans made canoe ##s of all types for travel \n",
      "\t context> the canoes allow them to travel over a vast area that today would take a few hours to fly over. you see, the native americans made canoes of all types, for travel on small streams or on large open ocean waters.\n",
      "\n"
     ]
    },
    {
     "name": "stdout",
     "output_type": "stream",
     "text": [
      "what kind of boats were needed for small streams??\n",
      "\t answer> they made narrow , maneuver ##able boats needed \n",
      "\t context> you see, the native americans made canoes of all types, for travel on small streams or on large open ocean waters. for small streams, they made narrow, maneuverable boats, while, while larger canoes were needed for the ocean.\n",
      "\n",
      "how many canoes were needed for the ocean??\n",
      "\t answer> they could travel throughout the area occasionally to canoe \n",
      "\t context> for small streams, they made narrow, maneuverable boats, while, while larger canoes were needed for the ocean. they could travel throughout the area only occasionally having to portage, to carry the canoe over a land short distance to another nearby stream.\n",
      "\n",
      "how did they get there??\n",
      "\t answer> [CLS] this wasn ' t a difficult task \n",
      "\t context> they could travel throughout the area only occasionally having to portage, to carry the canoe over a land short distance to another nearby stream. and since the canoes were so light, this wasn't a difficult task.\n",
      "\n",
      "how would this affect their lives?? if they could travel so easily over such\n",
      "\t answer> they could trade with people from other areas guess would lead them to form alliances \n",
      "\t context> now how do you think this affected their lives? student well if they could travel so easily over such a large area, they could trade with people from other areas which i guess would lead them to form alliances?\n",
      "\n",
      "how does the iroquois form a federation??\n",
      "\t answer> the iroquois to form a federation linked by natural waterways \n",
      "\t context> professor exactly. having an efficient means of transportation, well, that helps the iroquois to form a federation linked by natural waterways.\n",
      "\n",
      "what is the iroquois federation??\n",
      "\t answer> this federation expanded from what is now southern canada all the way south to the ##ver river \n",
      "\t context> having an efficient means of transportation, well, that helps the iroquois to form a federation linked by natural waterways. and this federation expanded from what is now southern canada all the way south to the dalever river.\n",
      "\n",
      "what is the impact of the birch bark canoe on newcomers to the\n",
      "\t answer> efficiency of the birch bark canoe also made an impression on newcomers to the area \n",
      "\t context> and this federation expanded from what is now southern canada all the way south to the dalever river. and this efficiency of the birch bark canoe also made an impression on newcomers to the area.\n",
      "\n",
      "how many kilometers a month could they travel??\n",
      "\t answer> design iroquois they found could travel great distances more than 15 kilometers \n",
      "\t context> and this efficiency of the birch bark canoe also made an impression on newcomers to the area. french traders in the 17th century modeled their well they adopted the design of the iroquois birch bark canoes, and they found they could travel great distances more than 15 kilometers a month.\n",
      "\n",
      "what is the bark of birch????????\n",
      "\t answer> [CLS] native americans also used the wood of the birch tree \n",
      "\t context> french traders in the 17th century modeled their well they adopted the design of the iroquois birch bark canoes, and they found they could travel great distances more than 15 kilometers a month. now besides the bark, native americans also used the wood of the birch tree.\n",
      "\n",
      "what was used as a support for lodging???????\n",
      "\t answer> the young trees were used as supports for lodging ##s \n",
      "\t context> now besides the bark, native americans also used the wood of the birch tree. the young trees were used as supports for lodgings, with the waterproof bark used as roofing.\n",
      "\n",
      "what was used as a roof??\n",
      "\t answer> branches were folded into snow ##es \n",
      "\t context> the young trees were used as supports for lodgings, with the waterproof bark used as roofing. branches were folded into snowshoes.\n",
      "\n",
      "how did the native americans run over the trees??\n",
      "\t answer> the native american people were all adept at running very fast over the you know it wasn t easy \n",
      "\t context> the young trees were used as supports for lodgings, with the waterproof bark used as roofing. branches were folded into snowshoes.\n",
      "\n"
     ]
    }
   ],
   "source": [
    "inputs = []\n",
    "passage = \"tpo_7-lecture_3_9\"\n",
    "sentences = train_data[passage][\"sentences\"]\n",
    "\n",
    "for ind in range(len(sentences)):\n",
    "    sentence = sentences[ind]\n",
    "    if ind == 0:\n",
    "        context = \" \".join([get_sentence_str(i) for i in sentences[ind: ind + 2]])\n",
    "    elif ind == len(sentences) - 1:\n",
    "        context = \" \".join([get_sentence_str(i) for i in sentences[ind - 2: ind]])\n",
    "    else:\n",
    "        context = \" \".join([get_sentence_str(i) for i in sentences[ind - 1: ind + 1]])\n",
    "    sent_str = get_sentence_str(sentence)\n",
    "    causation = get_causation_prediction(sent_str)\n",
    "    tokens = [token for token, pred in causation if pred.endswith(\"EFFECT\")]\n",
    "    if len(tokens) > 3:\n",
    "        ans = \" \".join(tokens)\n",
    "        inputs.append(f\"<answer> {ans} <context> {context}\")\n",
    "        \n",
    "print(inputs)\n",
    "for i in inputs:\n",
    "    print(qg._generate_question(i))\n",
    "    print(f\"\\t {i.split('<')[1]}\")\n",
    "    print(f\"\\t {i.split('<')[2]}\")\n",
    "    print()"
   ]
  },
  {
   "cell_type": "code",
   "execution_count": 14,
   "id": "ac80046a",
   "metadata": {},
   "outputs": [
    {
     "name": "stdout",
     "output_type": "stream",
     "text": [
      "Generating questions...\n",
      "\n",
      "Evaluating QA pairs...\n",
      "\n"
     ]
    }
   ],
   "source": [
    "text = get_full_paragraph(train_data[\"tpo_7-lecture_3_9\"][\"sentences\"][:20])\n",
    "default_generator = qg.generate(text, \n",
    "    num_questions=20, \n",
    "    answer_style='sentences')"
   ]
  },
  {
   "cell_type": "code",
   "execution_count": 46,
   "id": "0ce47fa9",
   "metadata": {},
   "outputs": [
    {
     "data": {
      "text/plain": [
       "[{'question': 'what is the name of the bark?',\n",
       "  'answer': 'and if you peel birch bark in the winter, we call it the winter bark, another layer, a tougher inner layer of the tree adheres to the bark, producing a stronger material.'},\n",
       " {'question': 'what shape could the native americans make utensils out of?',\n",
       "  'answer': 'they could fold the bark into many shapes.'},\n",
       " {'question': 'what did the native americans do with the bark?',\n",
       "  'answer': 'the native americans would cut the bark and fold it into any shape they needed, then secure it with cords until it dried.'},\n",
       " {'question': 'what type of soil can birch trees grow in?',\n",
       "  'answer': 'the birch tree can grow in many different types of soils and is prevalent in that area.'},\n",
       " {'question': 'what is the best way to describe birch bark?',\n",
       "  'answer': \"professor oh, that's one of the great things about birch bark.\"},\n",
       " {'question': 'what was the most important use of birch bark?',\n",
       "  'answer': 'now, back then, their lifes depended on the natural resources of the forests, especially the birch tree.'},\n",
       " {'question': 'what is the best description of birch bark?',\n",
       "  'answer': 'professor well, birch bark is pliable and very easy to bend.'},\n",
       " {'question': 'what is the meaning of birch bark?',\n",
       "  'answer': 'now can anyone here describe a birch tree?'},\n",
       " {'question': 'what is the best thing about birch bark?',\n",
       "  'answer': \"the taste of the birch tree doesn't get transferred to the food.\"},\n",
       " {'question': 'what was the most important use of birch bark?',\n",
       "  'answer': 'so the winter bark was used for larger utensils and containers.'},\n",
       " {'question': 'what is the best description of birch bark?',\n",
       "  'answer': 'the birch tree has white bark, and this tough protective outer layer of the tree, this white bark, is waterproof.'},\n",
       " {'question': 'what was the most important use of the bark?',\n",
       "  'answer': 'but the most important use of the bark, by far, was the canoe.'},\n",
       " {'question': 'where did the native americans live?',\n",
       "  'answer': 'they lived in the northeastern great lakes region of north america.'},\n",
       " {'question': 'what is the best description of birch bark?',\n",
       "  'answer': 'and this waterproof quality of the bark, it made it useful for making things like cooking containers, a variety of utensils.'},\n",
       " {'question': 'what is the name of the tree?',\n",
       "  'answer': 'student they are tall and white, the bark, i mean.'},\n",
       " {'question': 'what was the most important use of birch bark?',\n",
       "  'answer': 'so it was perfect for cooking containers.'},\n",
       " {'question': 'what is the best answer to this question?',\n",
       "  'answer': 'student i know people make utensils out of wood, but utensils out of tree bark?'},\n",
       " {'question': 'what is the best answer to this question?',\n",
       "  'answer': \"student so if they cooked in bowls made of birch bark, wouldn't that make the food taste funny?\"},\n",
       " {'question': 'what is the history of birch bark?',\n",
       "  'answer': \"professor so we've been discussing 16th century native american life, and today we're going to focus on the iroquois and huron peoples.\"},\n",
       " {'question': 'what is the difference between birch and huron?',\n",
       "  'answer': 'professor yes.'}]"
      ]
     },
     "execution_count": 46,
     "metadata": {},
     "output_type": "execute_result"
    }
   ],
   "source": [
    "default_generator"
   ]
  },
  {
   "cell_type": "code",
   "execution_count": 39,
   "id": "9585d868",
   "metadata": {},
   "outputs": [],
   "source": [
    "metric = load_metric(\"bertscore\")"
   ]
  },
  {
   "cell_type": "code",
   "execution_count": 53,
   "id": "f97bfd1a",
   "metadata": {},
   "outputs": [
    {
     "name": "stdout",
     "output_type": "stream",
     "text": [
      "['what is the lecture mainly about?', 'according to the professor , what characteristic of birth bark made it useful to native americans?', 'according to the professor , why was the canoe important to some native american groups?', 'why does the professor mention french traders who arrived in the iroquois region?']\n"
     ]
    }
   ],
   "source": [
    "keys = ['tpo_7-lecture_3_6','tpo_7-lecture_3_7','tpo_7-lecture_3_8','tpo_7-lecture_3_9']\n",
    "questions = [\" \".join(train_data[key][\"question\"]) + \"?\" for key in keys]\n",
    "print(questions)"
   ]
  },
  {
   "cell_type": "code",
   "execution_count": 40,
   "id": "ec9e95b8",
   "metadata": {},
   "outputs": [
    {
     "name": "stdout",
     "output_type": "stream",
     "text": [
      "{'precision': [0.8963501453399658], 'recall': [0.8443021774291992], 'f1': [0.8695480227470398], 'hashcode': 'roberta-large_L17_no-idf_version=0.3.10(hug_trans=4.11.3)'}\n"
     ]
    }
   ],
   "source": [
    "predictions = [\n",
    "    'what is the name of the bark?',\n",
    "]\n",
    "references = [\n",
    "    'why does the professor mention french traders who arrived in the iroquois region?',\n",
    "]\n",
    "results = metric.compute(predictions=predictions, references=references, lang='en')\n",
    "print(results)"
   ]
  },
  {
   "cell_type": "code",
   "execution_count": 42,
   "id": "8ae055f1",
   "metadata": {},
   "outputs": [
    {
     "name": "stdout",
     "output_type": "stream",
     "text": [
      "{'precision': [0.8453381061553955], 'recall': [0.823473334312439], 'f1': [0.834262490272522], 'hashcode': 'roberta-large_L17_no-idf_version=0.3.10(hug_trans=4.11.3)'}\n"
     ]
    }
   ],
   "source": [
    "predictions = [\n",
    "    'in the end, nothing really matters except the grade',\n",
    "]\n",
    "references = [\n",
    "    'why does the professor mention french traders who arrived in the iroquois region?',\n",
    "]\n",
    "results = metric.compute(predictions=predictions, references=references, lang='en')\n",
    "print(results)"
   ]
  },
  {
   "cell_type": "code",
   "execution_count": 45,
   "id": "dff58f8d",
   "metadata": {},
   "outputs": [
    {
     "name": "stdout",
     "output_type": "stream",
     "text": [
      "{'precision': [1.0], 'recall': [1.0], 'f1': [1.0], 'hashcode': 'roberta-large_L17_no-idf_version=0.3.10(hug_trans=4.11.3)'}\n"
     ]
    }
   ],
   "source": [
    "predictions = [\n",
    "    'why does the professor mention french traders who arrived in the iroquois region?',\n",
    "]\n",
    "references = [\n",
    "    'why does the professor mention french traders who arrived in the iroquois region?',\n",
    "]\n",
    "results = metric.compute(predictions=predictions, references=references, lang='en')\n",
    "print(results)"
   ]
  },
  {
   "cell_type": "code",
   "execution_count": null,
   "id": "7baba347",
   "metadata": {},
   "outputs": [],
   "source": [
    "predictions = [\n",
    "    'why does the professor mention french traders who arrived in the iroquois region?',\n",
    "]\n",
    "references = [\n",
    "    'why does the professor mention french traders who arrived in the iroquois region?',\n",
    "]\n",
    "results = metric.compute(predictions=predictions, references=references, lang='en')\n",
    "print(results)"
   ]
  }
 ],
 "metadata": {
  "kernelspec": {
   "display_name": "Python [conda env:idl_p]",
   "language": "python",
   "name": "conda-env-idl_p-py"
  },
  "language_info": {
   "codemirror_mode": {
    "name": "ipython",
    "version": 3
   },
   "file_extension": ".py",
   "mimetype": "text/x-python",
   "name": "python",
   "nbconvert_exporter": "python",
   "pygments_lexer": "ipython3",
   "version": "3.9.7"
  }
 },
 "nbformat": 4,
 "nbformat_minor": 5
}
